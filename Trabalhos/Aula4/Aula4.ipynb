{
 "cells": [
  {
   "cell_type": "code",
   "execution_count": 13,
   "metadata": {},
   "outputs": [
    {
     "data": {
      "image/png": "[encoded data removed]",
      "text/plain": [
       "<matplotlib.figure.Figure at 0x2e1471bf198>"
      ]
     },
     "metadata": {},
     "output_type": "display_data"
    }
   ],
   "source": [
    "import matplotlib.pyplot as plt\n",
    "import numpy as np\n",
    "\n",
    "x = np.linspace(2,12)\n",
    "y = []\n",
    "\n",
    "z = np.linspace(2,12)\n",
    "w = []\n",
    "\n",
    "for i in x:\n",
    "    y.append(10**(-i+1))\n",
    "    \n",
    "for i in z:\n",
    "    w.append((1/2)*10**(-i+1))\n",
    "    \n",
    "plt.title('Erro Relativo de 2 a 12')\n",
    "plt.plot(x,y)\n",
    "plt.plot(z,w)\n",
    "plt.show()"
   ]
  },
  {
   "cell_type": "code",
   "execution_count": 14,
   "metadata": {},
   "outputs": [
    {
     "name": "stdout",
     "output_type": "stream",
     "text": [
      "0.16666666666666666\n",
      "0.30000000000000004\n"
     ]
    }
   ],
   "source": [
    "# Erro relativo da Soma\n",
    "\n",
    "def ErroRelativo(ER_x, ER_y, x, y):\n",
    "    ER_xy = ER_x*(x/(x+y)) + ER_y*(y/(x+y))\n",
    "    return ER_xy\n",
    "\n",
    "print(ErroRelativo(0.1,0.2,1,2))\n",
    "\n",
    "# Erro absoluto da Soma\n",
    "\n",
    "def ErroRelativo(EA_x, EA_y, x, y):\n",
    "    EA_xy = EA_x + EA_y\n",
    "    return EA_xy\n",
    "\n",
    "print(ErroRelativo(0.1,0.2,1,2))"
   ]
  }
 ],
 "metadata": {
  "kernelspec": {
   "display_name": "Python 3",
   "language": "python",
   "name": "python3"
  },
  "language_info": {
   "codemirror_mode": {
    "name": "ipython",
    "version": 3
   },
   "file_extension": ".py",
   "mimetype": "text/x-python",
   "name": "python",
   "nbconvert_exporter": "python",
   "pygments_lexer": "ipython3",
   "version": "3.6.6"
  }
 },
 "nbformat": 4,
 "nbformat_minor": 2
}
