{
 "cells": [
  {
   "cell_type": "code",
   "execution_count": 4,
   "metadata": {
    "collapsed": true
   },
   "outputs": [],
   "source": [
    "import numpy as np"
   ]
  },
  {
   "cell_type": "markdown",
   "metadata": {},
   "source": [
    "ALGORITMO I: RESOLUÇÃO DE UM SISTEMA LINEAR TRIANGULAR SUPERIOR"
   ]
  },
  {
   "cell_type": "code",
   "execution_count": 109,
   "metadata": {
    "collapsed": true
   },
   "outputs": [],
   "source": [
    "# Dado um sistema S, representado por uma matriz M de ordem N, o algoritmo abaixo pega uma matriz triangular equivalente\n",
    "# e a matriz resultado e calcula a solução de S\n",
    "\n",
    "def solucao(a,b,n):\n",
    "    x = np.zeros((n,1)) # Cria uma matriz x[n,1] para receber a solução\n",
    "    x[n-1,0] = b[n-1,0]/a[n-1,n-1]\n",
    "    \n",
    "    for k in range(n-1,-1,-1):\n",
    "        s = 0\n",
    "        for j in range(k+1,n):\n",
    "            s = s + a[k,j]*x[j,0]\n",
    "            x[k,0] = (b[k,0] - s)/a[k,k]\n",
    "    \n",
    "    return x"
   ]
  },
  {
   "cell_type": "code",
   "execution_count": 111,
   "metadata": {},
   "outputs": [
    {
     "name": "stdout",
     "output_type": "stream",
     "text": [
      "[[ 1.]\n",
      " [ 3.]\n",
      " [ 2.]]\n"
     ]
    }
   ],
   "source": [
    "# Sistema de exemplo:\n",
    "#\n",
    "# 1*x1 + 2*x2 + 1*x3 =  9\n",
    "# 2*x1 + 1*x2 - 1*x3 =  3\n",
    "# 3*x1 - 1*x2 - 2*x3 = -4\n",
    "\n",
    "# Sistema escalonado:\n",
    "#\n",
    "# 1*x1 + 2*x2 + 1*x3 =    9\n",
    "#      - 3*x2 - 3*x3 =  -15\n",
    "#               2*x3 =  4\n",
    "\n",
    "M = np.matrix([[1,2,1],[0,-3,-3],[0,0,2]])\n",
    "R = np.matrix([[9],[-15],[4]])\n",
    "X = solucao(M,R,3)\n",
    "print(X)"
   ]
  },
  {
   "cell_type": "markdown",
   "metadata": {},
   "source": [
    "ALGORITMO II: RESOLUÇÃO DE Ax = B ATRAVÉS DO MÉTODO DA ELIMINAÇÃO DE GAUSS"
   ]
  },
  {
   "cell_type": "code",
   "execution_count": 104,
   "metadata": {
    "collapsed": true
   },
   "outputs": [],
   "source": [
    "# Dado um sistema S, representado por uma matriz M de ordem N e por uma matriz resultado R de ordem Nx1, o algoritmo\n",
    "# abaixo pega essas matrizes e retorna a matriz triangular equivalente a M e sua matriz resultado correspondente\n",
    "\n",
    "def escalonamento(a,b,n):\n",
    "    for k in range(n-1):\n",
    "        for i in range(k+1,n):\n",
    "            m = a[i,k]/a[k,k]\n",
    "            a[i,k] = 0\n",
    "            for j in range(k+1,n):\n",
    "                a[i,j] = a[i,j] - m*a[k,j]\n",
    "            b[i,0] = b[i,0] - m*b[k,0]"
   ]
  },
  {
   "cell_type": "code",
   "execution_count": 112,
   "metadata": {},
   "outputs": [
    {
     "name": "stdout",
     "output_type": "stream",
     "text": [
      "\n",
      " [[ 1  2  1]\n",
      " [ 0 -3 -3]\n",
      " [ 0  0  2]]\n",
      "\n",
      " [[  9]\n",
      " [-15]\n",
      " [  4]]\n"
     ]
    }
   ],
   "source": [
    "# Sistema de exemplo:\n",
    "#\n",
    "# 1*x1 + 2*x2 + 1*x3 =  9\n",
    "# 2*x1 + 1*x2 - 1*x3 =  3\n",
    "# 3*x1 - 1*x2 - 2*x3 = -4\n",
    "\n",
    "O = np.matrix([[1,2,1],[2,1,-1],[3,-1,-2]])\n",
    "P = np.matrix([[9],[3],[-4]])\n",
    "\n",
    "escalonamento(O,P,3)\n",
    "print(\"\\n\", O)\n",
    "print(\"\\n\", P)"
   ]
  },
  {
   "cell_type": "code",
   "execution_count": 113,
   "metadata": {},
   "outputs": [
    {
     "name": "stdout",
     "output_type": "stream",
     "text": [
      "\n",
      " [[ 1.]\n",
      " [ 3.]\n",
      " [ 2.]]\n"
     ]
    }
   ],
   "source": [
    "# Determina o resultado\n",
    "\n",
    "X = solucao(O,P,3)\n",
    "print(\"\\n\", X)"
   ]
  }
 ],
 "metadata": {
  "kernelspec": {
   "display_name": "Python 3",
   "language": "python",
   "name": "python3"
  },
  "language_info": {
   "codemirror_mode": {
    "name": "ipython",
    "version": 3
   },
   "file_extension": ".py",
   "mimetype": "text/x-python",
   "name": "python",
   "nbconvert_exporter": "python",
   "pygments_lexer": "ipython3",
   "version": "3.6.2"
  }
 },
 "nbformat": 4,
 "nbformat_minor": 2
}
