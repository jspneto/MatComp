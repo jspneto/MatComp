{
 "cells": [
  {
   "cell_type": "code",
   "execution_count": 4,
   "metadata": {},
   "outputs": [],
   "source": [
    "import numpy as np\n",
    "import numpy.matlib"
   ]
  },
  {
   "cell_type": "code",
   "execution_count": 4,
   "metadata": {},
   "outputs": [
    {
     "name": "stdout",
     "output_type": "stream",
     "text": [
      "[[ 3.  2.  4.]\n",
      " [ 1.  1.  2.]\n",
      " [ 4.  3.  2.]]\n"
     ]
    }
   ],
   "source": [
    "# Define uma matriz A, base para os cálculos posteriores\n",
    "\n",
    "A = np.matrix([[3.,2.,4.],[1.,1.,2.],[4.,3.,2.]])\n",
    "print(A)"
   ]
  },
  {
   "cell_type": "code",
   "execution_count": 16,
   "metadata": {},
   "outputs": [
    {
     "name": "stdout",
     "output_type": "stream",
     "text": [
      "-4.0\n",
      "true\n"
     ]
    }
   ],
   "source": [
    "# Determinante de A:\n",
    "\n",
    "x = np.linalg.det(A)\n",
    "print(x)\n",
    "\n",
    "if x != 0:\n",
    "    print('true')"
   ]
  },
  {
   "cell_type": "code",
   "execution_count": 17,
   "metadata": {},
   "outputs": [
    {
     "name": "stdout",
     "output_type": "stream",
     "text": [
      "[[ 1.          0.          0.        ]\n",
      " [-0.33333333  1.          0.        ]\n",
      " [-1.33333333  0.          1.        ]]\n"
     ]
    }
   ],
   "source": [
    "# Cria a matriz M0 a partir de uma matriz A qualquer\n",
    "\n",
    "def matrizM0(A):\n",
    "    M0 = np.zeros((3,3))\n",
    "    M0[1,0] = - A[1,0]/A[0,0]\n",
    "    M0[2,0] = - A[2,0]/A[0,0]\n",
    "    for i in range(3): M0[i,i] = 1\n",
    "    return M0\n",
    "\n",
    "M0 = matrizM0(A)\n",
    "print(M0)"
   ]
  },
  {
   "cell_type": "code",
   "execution_count": 18,
   "metadata": {},
   "outputs": [
    {
     "name": "stdout",
     "output_type": "stream",
     "text": [
      "[[ 3.          2.          4.        ]\n",
      " [ 0.          0.33333333  0.66666667]\n",
      " [ 0.          0.33333333 -3.33333333]]\n"
     ]
    }
   ],
   "source": [
    "# Obtém uma matriz A1 a partir de A. Utiliza a função matriz M0, definida no item anterior\n",
    "\n",
    "def matrizA1(A):\n",
    "    M0 = matrizM0(A)\n",
    "    A1 = M0*A\n",
    "    return A1\n",
    "\n",
    "A1 = matrizA1(A)\n",
    "print(A1)"
   ]
  },
  {
   "cell_type": "code",
   "execution_count": 19,
   "metadata": {},
   "outputs": [
    {
     "name": "stdout",
     "output_type": "stream",
     "text": [
      "[[ 1.  0.  0.]\n",
      " [ 0.  1.  0.]\n",
      " [ 0. -1.  1.]]\n"
     ]
    }
   ],
   "source": [
    "# Cria a matriz M1 a partir de uma matriz A qualquer. Utiliza a função matrizA1, definida no item anterior\n",
    "\n",
    "def matrizM1(A):\n",
    "    M1 = np.zeros((3,3))\n",
    "    A1 = matrizA1(A)\n",
    "    M1[2,1] = - A1[2,1]/A1[1,1]\n",
    "    for i in range(3): M1[i,i] = 1\n",
    "    return M1\n",
    "\n",
    "M1 = matrizM1(A)\n",
    "print(M1)"
   ]
  },
  {
   "cell_type": "code",
   "execution_count": 20,
   "metadata": {},
   "outputs": [
    {
     "name": "stdout",
     "output_type": "stream",
     "text": [
      "[[  3.00000000e+00   2.00000000e+00   4.00000000e+00]\n",
      " [  0.00000000e+00   3.33333333e-01   6.66666667e-01]\n",
      " [  0.00000000e+00  -5.55111512e-17  -4.00000000e+00]]\n"
     ]
    }
   ],
   "source": [
    "# Obtém uma matriz A2 a partir de A. Utiliza a função matrizM1, definida no item anterior\n",
    "\n",
    "def matrizA2(A):\n",
    "    M1 = matrizM1(A)\n",
    "    A2 = M1*A1\n",
    "    return A2\n",
    "\n",
    "A2 = matrizA2(A)\n",
    "print(A2)"
   ]
  },
  {
   "cell_type": "code",
   "execution_count": 113,
   "metadata": {},
   "outputs": [
    {
     "name": "stdout",
     "output_type": "stream",
     "text": [
      "[[  1.00000000e+00]\n",
      " [  1.66666667e+00]\n",
      " [ -7.40184823e-16]]\n"
     ]
    }
   ],
   "source": [
    "# Obtém a matriz b2 de resultados a partir da matriz de coeficientes A e da matriz de resultados b. Utiliza as funções\n",
    "# matrizM0 e matrizM1, definidas anteriormente\n",
    "\n",
    "def matrizB2(A, b):\n",
    "    M0 = matrizM0(A)\n",
    "    M1 = matrizM1(A)\n",
    "    b1 = M0*b\n",
    "    b2 = M1*b1\n",
    "    return b2\n",
    "\n",
    "b = np.matrix([[1.],[2.],[3.]])\n",
    "b2 = matrizB2(A,b)\n",
    "print(b2)"
   ]
  },
  {
   "cell_type": "code",
   "execution_count": 14,
   "metadata": {},
   "outputs": [
    {
     "name": "stdout",
     "output_type": "stream",
     "text": [
      "Ly = b.\n",
      " y = \n",
      " [[  1.00000000e+00]\n",
      " [  1.66666667e+00]\n",
      " [ -7.21644966e-16]]\n",
      "\n",
      "Ux = y.\n",
      " x = \n",
      " [[ -3.00000000e+00]\n",
      " [  5.00000000e+00]\n",
      " [  1.80411242e-16]]\n"
     ]
    }
   ],
   "source": [
    "# Dado um sistema S, cuja solução é Determinada por Ax = b, calcula os fatores L e U e obtém a solução geral\n",
    "\n",
    "def fatoracaoLU(A,b):\n",
    "    L = np.zeros((A.shape[0],A.shape[0]))\n",
    "    for i in range(A.shape[0]):\n",
    "        L[i,i] = 1\n",
    "    U = A\n",
    "    for i in range(A.shape[0]-1):\n",
    "        for j in range(i+1,A.shape[0]):\n",
    "            L[j,i] = U[j,i]/U[i,i]\n",
    "            for k in range(i, A.shape[0]):\n",
    "                U[j,k] = U[j,k] - L[j,i]*U[i,k]\n",
    "            b[j,0] = b[j,0] - L[j,i]*b[i,0]\n",
    "    return L, U, b\n",
    "\n",
    "def solucaoDoSistema(A,b):\n",
    "    L = fatoracaoLU(A,b)[0]\n",
    "    U = fatoracaoLU(A,b)[1]\n",
    "    R = fatoracaoLU(A,b)[2]\n",
    "    \n",
    "    y = np.zeros((A.shape[0],1))    \n",
    "    y[0,0] = R[0,0]/L[0,0]    \n",
    "    for i in range(1, A.shape[0]):\n",
    "        s = 0\n",
    "        for j in range(0,i):\n",
    "            s = s + L[j,i]*y[j,0]\n",
    "            y[i,0] = (R[i,0] - s)/L[i,i]\n",
    "    \n",
    "    x = np.zeros((A.shape[0],1))\n",
    "    x[A.shape[0]-1,0] = y[A.shape[0]-1,0]/U[A.shape[0]-1,A.shape[0]-1]\n",
    "    for i in range(A.shape[0]-1,-1,-1):\n",
    "        s = 0\n",
    "        for j in range(i+1,A.shape[0]):\n",
    "            s = s + U[i,j]*x[j,0]\n",
    "            x[i,0] = (y[i,0] - s)/U[i,i]\n",
    "    \n",
    "    return y,x\n",
    "\n",
    "F = np.matrix([[3.,2.,4.],[1.,1.,2.],[4.,3.,2.]])\n",
    "G = np.matrix([[1.],[2.],[3.]])\n",
    "print(\"Ly = b.\\n y = \\n\", solucaoDoSistema(F,G)[0])\n",
    "print(\"\\nUx = y.\\n x = \\n\", solucaoDoSistema(F,G)[1])"
   ]
  },
  {
   "cell_type": "code",
   "execution_count": 85,
   "metadata": {},
   "outputs": [
    {
     "name": "stdout",
     "output_type": "stream",
     "text": [
      "Solução =\n",
      " [[-3.25]\n",
      " [ 5.5 ]\n",
      " [ 0.25]]\n"
     ]
    }
   ],
   "source": [
    "# Aplica a fatoração LU utilizando estratégias de pivoteamento parcial. Retorna a solução do sistema\n",
    "\n",
    "def fatoracaoLU_comPivoteamento(A,b):\n",
    "    p = []\n",
    "    c = np.zeros((A.shape[0],1), dtype = 'float')\n",
    "    y = np.zeros((A.shape[0],1), dtype = 'float')\n",
    "    x = np.zeros((A.shape[0],1), dtype = 'float')\n",
    "  \n",
    "    for i in range(A.shape[0]):\n",
    "        p.append(i)\n",
    "    \n",
    "    for k in range(A.shape[0]-1):\n",
    "        pv = abs(A[k,k])\n",
    "        r = k\n",
    "        \n",
    "        for i in range(k+1, A.shape[0]):\n",
    "            if abs(A[i,k]) > pv:\n",
    "                pv = A[i,k]\n",
    "                r = i\n",
    "        \n",
    "        if pv == 0: break\n",
    "\n",
    "        if r != k:\n",
    "            aux = p[k]\n",
    "            p[k] = p[r]\n",
    "            p[r] = aux\n",
    "            \n",
    "            for j in range(A.shape[0]):\n",
    "                aux = A[k,j]\n",
    "                A[k,j] = A[r,j]\n",
    "                A[r,j] = aux\n",
    "       \n",
    "        for i in range(k+1, A.shape[0]):\n",
    "            m = A[i,k]/A[k,k]\n",
    "            A[i,k] = A[i,k] - m*A[k,k]\n",
    "            for j in range(k+1, A.shape[0]):\n",
    "                A[i,j] = A[i,j] - m*A[k,j]\n",
    "            b[i,0] = b[i,0] - m*b[k,0]\n",
    "            \n",
    "    for i in range(A.shape[0]):\n",
    "        r = p[i]\n",
    "        c[i,0] = b[r,0]\n",
    "    \n",
    "    for i in range(A.shape[0]):\n",
    "        soma = 0\n",
    "        for j in range(i-1):\n",
    "            soma = soma + A[i,j]*y[j,0]\n",
    "        y[i,0] = c[i,0] - soma\n",
    "\n",
    "    for i in range(A.shape[0]-1,-1,-1):\n",
    "        soma = 0\n",
    "        for j in range(i+1, A.shape[0]):\n",
    "            soma = soma + A[i,j]*x[j,0]\n",
    "        x[i,0] = (y[i,0] - soma)/A[i,i]\n",
    "   \n",
    "    return x\n",
    "\n",
    "H = np.matrix([[3.,2.,4.],[1.,1.,2.],[4.,3.,2.]])\n",
    "I = np.matrix([[1.],[2.],[3.]])\n",
    "\n",
    "print(\"Solução =\\n\", fatoracaoLU_comPivoteamento(H,I))"
   ]
  }
 ],
 "metadata": {
  "anaconda-cloud": {},
  "kernelspec": {
   "display_name": "Python 3",
   "language": "python",
   "name": "python3"
  },
  "language_info": {
   "codemirror_mode": {
    "name": "ipython",
    "version": 3
   },
   "file_extension": ".py",
   "mimetype": "text/x-python",
   "name": "python",
   "nbconvert_exporter": "python",
   "pygments_lexer": "ipython3",
   "version": "3.5.3"
  }
 },
 "nbformat": 4,
 "nbformat_minor": 2
}
