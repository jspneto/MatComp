{
 "cells": [
  {
   "cell_type": "code",
   "execution_count": 6,
   "metadata": {},
   "outputs": [],
   "source": [
    "import numpy as np"
   ]
  },
  {
   "cell_type": "markdown",
   "metadata": {},
   "source": [
    "MELHORIA 1:\n",
    "\n",
    "1. Se o elemento abaixo do pivô for zero, continue.\n",
    "2. Se um dos pivôs for zero, mostrar uma mensagem de erro."
   ]
  },
  {
   "cell_type": "code",
   "execution_count": 16,
   "metadata": {},
   "outputs": [],
   "source": [
    "# Dado um sistema S, representado por uma matriz A de ordem N e por uma matriz resultado B de ordem Nx1, o algoritmo\n",
    "# abaixo pega essas matrizes e retorna a matriz triangular equivalente a A e sua matriz resultado correspondente\n",
    "\n",
    "# Aplicando a etapa 1\n",
    "\n",
    "def escalonamento1(a,b,n):\n",
    "    for k in range(n-1):\n",
    "        for i in range(k+1,n):\n",
    "            if a[i,k] == 0:\n",
    "                print(\"A iteração \", k+1, \" foi pulada\")\n",
    "                continue\n",
    "            \n",
    "            if a[i,k] == 0:\n",
    "                print(\"Do contrário, esta mensagem seria exibida\")\n",
    "            \n",
    "            m = a[i,k]/a[k,k]\n",
    "            a[i,k] = 0\n",
    "            \n",
    "            for j in range(k+1,n):\n",
    "                a[i,j] = a[i,j] - m*a[k,j]\n",
    "            \n",
    "            b[i,0] = b[i,0] - m*b[k,0]"
   ]
  },
  {
   "cell_type": "code",
   "execution_count": 18,
   "metadata": {
    "scrolled": true
   },
   "outputs": [
    {
     "name": "stdout",
     "output_type": "stream",
     "text": [
      "A iteração  1  foi pulada\n",
      "\n",
      " [[  1   2   1]\n",
      " [  0   1  -1]\n",
      " [  0   0 -12]]\n",
      "\n",
      " [[  9]\n",
      " [  3]\n",
      " [-10]]\n"
     ]
    }
   ],
   "source": [
    "# Sistema de exemplo:\n",
    "#\n",
    "# 1*x1 + 2*x2 + 1*x3 =  9\n",
    "# 2*x1 + 1*x2 - 1*x3 =  3 ==> 2*x1 será substituído por 0*x1\n",
    "# 3*x1 - 1*x2 - 2*x3 = -4\n",
    "\n",
    "A = np.matrix([[1,2,1],[0,1,-1],[3,-1,-2]])\n",
    "B = np.matrix([[9],[3],[-4]])\n",
    "\n",
    "escalonamento1(A,B,3)\n",
    "print(\"\\n\", A)\n",
    "print(\"\\n\", B)"
   ]
  },
  {
   "cell_type": "code",
   "execution_count": 19,
   "metadata": {},
   "outputs": [],
   "source": [
    "# Dado um sistema S, representado por uma matriz A de ordem N e por uma matriz resultado B de ordem Nx1, o algoritmo\n",
    "# abaixo pega essas matrizes e retorna a matriz triangular equivalente a A e sua matriz resultado correspondente\n",
    "\n",
    "# Aplicando a etapa 2\n",
    "\n",
    "def escalonamento2(a,b,n):\n",
    "    for k in range(n-1):\n",
    "        if a[k,k] == 0:\n",
    "            print(\"Pivô = 0: Nenhuma operação será executada\")\n",
    "            break\n",
    "        \n",
    "        for i in range(k+1,n):\n",
    "            if a[i,k] == 0:\n",
    "                print(\"A iteração \", k+1, \" foi pulada\")\n",
    "                continue\n",
    "            \n",
    "            if a[i,k] == 0:\n",
    "                print(\"Do contrário, esta mensagem seria exibida\")\n",
    "            \n",
    "            m = a[i,k]/a[k,k]\n",
    "            a[i,k] = 0\n",
    "            \n",
    "            for j in range(k+1,n):\n",
    "                a[i,j] = a[i,j] - m*a[k,j]\n",
    "            \n",
    "            b[i,0] = b[i,0] - m*b[k,0]"
   ]
  },
  {
   "cell_type": "code",
   "execution_count": 20,
   "metadata": {},
   "outputs": [
    {
     "name": "stdout",
     "output_type": "stream",
     "text": [
      "Pivô = 0: Nenhuma operação será executada\n",
      "\n",
      " [[ 0  2  1]\n",
      " [ 2  1 -1]\n",
      " [ 3 -1 -2]]\n",
      "\n",
      " [[ 9]\n",
      " [ 3]\n",
      " [-4]]\n"
     ]
    }
   ],
   "source": [
    "# Sistema de exemplo:\n",
    "#\n",
    "# 1*x1 + 2*x2 + 1*x3 =  9 ==> 1*x1 será substituído por 0*x1\n",
    "# 2*x1 + 1*x2 - 1*x3 =  3\n",
    "# 3*x1 - 1*x2 - 2*x3 = -4\n",
    "\n",
    "C = np.matrix([[0,2,1],[2,1,-1],[3,-1,-2]])\n",
    "D = np.matrix([[9],[3],[-4]])\n",
    "\n",
    "escalonamento2(C,D,3)\n",
    "print(\"\\n\", C)\n",
    "print(\"\\n\", D)"
   ]
  },
  {
   "cell_type": "markdown",
   "metadata": {},
   "source": [
    "MELHORIA 2:\n",
    "    \n",
    "    1 . Se o determinante for igual a 0, exibir uma mensagem de erro\n",
    "    2 . Senão, executar a Gauus Elimination"
   ]
  },
  {
   "cell_type": "code",
   "execution_count": 30,
   "metadata": {},
   "outputs": [],
   "source": [
    "# Dado um sistema S, representado por uma matriz A de ordem N e por uma matriz resultado B de ordem Nx1, o algoritmo\n",
    "# abaixo pega essas matrizes e retorna a matriz triangular equivalente a A e sua matriz resultado correspondente\n",
    "\n",
    "# Aplicando a Melhoria 2\n",
    "\n",
    "def escalonamento3(a,b,n):\n",
    "    for i in range(n):\n",
    "        if a[i,i] != 0: \n",
    "            continuar = 'true'\n",
    "        else:\n",
    "            continuar = 'false'\n",
    "            break\n",
    "    \n",
    "    if continuar == 'true':\n",
    "        escalonamento2(a,b,n)\n",
    "    else:\n",
    "        print(\"Determinante igual a 0: Nenhuma operação executada\")"
   ]
  },
  {
   "cell_type": "code",
   "execution_count": 31,
   "metadata": {},
   "outputs": [
    {
     "name": "stdout",
     "output_type": "stream",
     "text": [
      "Determinante igual a 0: Nenhuma operação executada\n",
      "\n",
      " [[ 1  2  1]\n",
      " [ 2  0 -1]\n",
      " [ 3 -1 -2]]\n",
      "\n",
      " [[ 9]\n",
      " [ 3]\n",
      " [-4]]\n"
     ]
    }
   ],
   "source": [
    "# Sistema de exemplo:\n",
    "#\n",
    "# 1*x1 + 2*x2 + 1*x3 =  9\n",
    "# 2*x1 + 1*x2 - 1*x3 =  3 ==> 1*x2 serão substituído por 0*x2\n",
    "# 3*x1 - 1*x2 - 2*x3 = -4\n",
    "\n",
    "E = np.matrix([[1,2,1],[2,0,-1],[3,-1,-2]])\n",
    "F = np.matrix([[9],[3],[-4]])\n",
    "\n",
    "escalonamento3(E,F,3)\n",
    "\n",
    "print(\"\\n\", E)\n",
    "print(\"\\n\", F)"
   ]
  }
 ],
 "metadata": {
  "kernelspec": {
   "display_name": "Python 3",
   "language": "python",
   "name": "python3"
  },
  "language_info": {
   "codemirror_mode": {
    "name": "ipython",
    "version": 3
   },
   "file_extension": ".py",
   "mimetype": "text/x-python",
   "name": "python",
   "nbconvert_exporter": "python",
   "pygments_lexer": "ipython3",
   "version": "3.5.3"
  }
 },
 "nbformat": 4,
 "nbformat_minor": 2
}
