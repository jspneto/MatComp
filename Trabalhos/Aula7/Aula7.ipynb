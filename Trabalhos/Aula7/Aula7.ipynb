{
 "cells": [
  {
   "cell_type": "code",
   "execution_count": 1,
   "metadata": {
    "collapsed": true
   },
   "outputs": [],
   "source": [
    "\"\"\"\n",
    "    O programa abaixo utiliza as seguintes regras para nomear variáveis:\n",
    "\n",
    "    S = número de sequências de três números geradas\n",
    "    M = Matriz Sx3 que armazena as sequências geradas\n",
    "\n",
    "    LI: limite inferior para um intervalo de números aleatórios\n",
    "    LS: limite superior para um intervalo de números aleatórios\n",
    "\"\"\"\n",
    "\n",
    "import numpy as np\n",
    "from random import randint #gera números de ponto flutuante aleatórios num intervalo dado"
   ]
  },
  {
   "cell_type": "code",
   "execution_count": 10,
   "metadata": {
    "collapsed": false
   },
   "outputs": [
    {
     "name": "stdout",
     "output_type": "stream",
     "text": [
      "[[  2. -10.  -4.]\n",
      " [  1.   9.  -2.]\n",
      " [-10.  -9.  10.]\n",
      " [ -1.   4.  -2.]\n",
      " [ -7.   8.  -4.]]\n"
     ]
    }
   ],
   "source": [
    "\"\"\"\n",
    "\tRetorna uma matriz M_(Sx3) com sequências de números aleatórios entre LI e LS\n",
    "\"\"\"\n",
    "\n",
    "def sequencia(S,LI,LS):\n",
    "\tmatriz = np.zeros((S,3))\n",
    "\n",
    "\tfor i in range(0,S):\n",
    "\t\tfor j in range(0,3):\n",
    "\t\t\tmatriz[i,j] = randint(LI,LS)\n",
    "\n",
    "\treturn matriz\n",
    "\n",
    "S = 5\n",
    "LI = -10\n",
    "LS = 10\n",
    "\n",
    "matrizDeSequencias = sequencia(S,LI,LS)\n",
    "print(matrizDeSequencias)"
   ]
  },
  {
   "cell_type": "code",
   "execution_count": 11,
   "metadata": {
    "collapsed": false
   },
   "outputs": [
    {
     "name": "stdout",
     "output_type": "stream",
     "text": [
      "[[-30. -16. -14.]\n",
      " [ 13.   6.  35.]\n",
      " [ -8.   1. -87.]\n",
      " [ -3.  -1.  12.]\n",
      " [-21.  -7.   4.]]\n"
     ]
    }
   ],
   "source": [
    "\"\"\"\n",
    "\tDada uma matriz M_(Sx3) calcula o resultado da substituição dos elementos das sequências S nas equações abaixo:\n",
    "\t\n",
    "\t3*x1 + 2*x2 + 4*x3 = 1\n",
    "\t1*x1 + 1*x2 + 2*x3 = 2\n",
    "\t4*x1 + 3*x2 - 2*x3 = 3\n",
    "\n",
    "\tOs resultados são armazenados em outras matriz Sx3\n",
    "\"\"\"\n",
    "\n",
    "def resultado(M,S):\n",
    "\tmatriz = np.zeros((S,3))\n",
    "\t\n",
    "\tfor i in range(0,S):\n",
    "\t\tx1 = M[i,0] # pega o 1º valor da sequência i e armazena em x1\n",
    "\t\tx2 = M[i,1] # pega o 2º valor da sequência i e armazena em x2\n",
    "\t\tx3 = M[i,2] # pega o 3º valor da sequência i e armazena em x3\n",
    "\n",
    "\t\teq1 = 3*x1 + 2*x2 + 4*x3 # obtém um resultado para a equação 1 a patir de x1, x2 e x3\n",
    "\t\teq2 = 1*x1 + 1*x2 + 2*x3 # obtém um resultado para a equação 2 a patir de x1, x2 e x3\n",
    "\t\teq3 = 4*x1 + 3*x2 - 2*x3 # obtém um resultado para a equação 3 a patir de x1, x2 e x3\n",
    "\n",
    "\t\tmatriz[i,0] = eq1 # armazena o resultado da equação 1 na 1º posição dos resultados refeentes a sequênca i\n",
    "\t\tmatriz[i,1] = eq2 # armazena o resultado da equação 1 na 1º posição dos resultados refeentes a sequênca i\n",
    "\t\tmatriz[i,2] = eq3 # armazena o resultado da equação 1 na 1º posição dos resultados refeentes a sequênca i\n",
    "\t\n",
    "\treturn matriz\n",
    "\n",
    "S = 5\n",
    "\n",
    "matrizDeResultados = resultado(matrizDeSequencias, S)\n",
    "print(matrizDeResultados)"
   ]
  },
  {
   "cell_type": "code",
   "execution_count": 17,
   "metadata": {
    "collapsed": false
   },
   "outputs": [
    {
     "name": "stdout",
     "output_type": "stream",
     "text": [
      "[[ 3100.           900.           566.66666667]\n",
      " [ 1200.           200.          1066.66666667]\n",
      " [  900.            50.          3000.        ]\n",
      " [  400.           150.           300.        ]\n",
      " [ 2200.           450.            33.33333333]]\n"
     ]
    }
   ],
   "source": [
    "\"\"\"\n",
    "\tConsiderando a matriz M_(Sx3) de resultados, calcula o percentual de aproximação dos resultados obtidos com os resultados\n",
    "\treais das equações\n",
    "\n",
    "\t3*x1 + 2*x2 + 4*x3 = 1\n",
    "\t1*x1 + 1*x2 + 2*x3 = 2\n",
    "\t4*x1 + 3*x2 - 2*x3 = 3\n",
    "\n",
    "\tAs aproximações obtidas são armazenadas em outra matriz Sx3\n",
    "\"\"\"\n",
    "\n",
    "def aproximacao(M,S):\n",
    "\tmatriz = np.zeros((S,3))\n",
    "\n",
    "\trEq1 = 1 # resultado real da equação 1\n",
    "\trEq2 = 2 # resultado real da equação 2\n",
    "\trEq3 = 3 # resultado real da equação 3\n",
    "\n",
    "\tfor i in range(0,S):\n",
    "\t\toEq1 = M[i,0] # resultado obtido na equação 1 pela sequência i\n",
    "\t\toEq2 = M[i,1] # resultado obtido na equação 2 pela sequência i\n",
    "\t\toEq3 = M[i,2] # resultado obtifo na equação 3 pela sequência i\n",
    "\n",
    "\t\tapx1 = abs((rEq1-oEq1)/rEq1)*100 # aproximação da equação 1 para a sequência i\n",
    "\t\tapx2 = abs((rEq2-oEq2)/rEq2)*100 # aproximação da equação 2 para a sequência i\n",
    "\t\tapx3 = abs((rEq3-oEq3)/rEq3)*100 # aproximação da equação 3 para a sequência i\n",
    "\n",
    "\t\tmatriz[i,0] = apx1 # armazena a aproximação da equação 1 para a sequência i\n",
    "\t\tmatriz[i,1] = apx2 # armazena a aproximação da equação 2 para a sequência i\n",
    "\t\tmatriz[i,2] = apx3 # armazena a aproximação da equação 3 para a sequência i\n",
    "\t\n",
    "\treturn matriz\n",
    "\n",
    "S = 5\n",
    "\n",
    "matrizDeAproximacoes = aproximacao(matrizDeResultados, S)\n",
    "print(matrizDeAproximacoes)"
   ]
  },
  {
   "cell_type": "code",
   "execution_count": 19,
   "metadata": {
    "collapsed": false
   },
   "outputs": [
    {
     "name": "stdout",
     "output_type": "stream",
     "text": [
      "[[ 1522.22222222]\n",
      " [  822.22222222]\n",
      " [ 1316.66666667]\n",
      " [  283.33333333]\n",
      " [  894.44444444]]\n"
     ]
    }
   ],
   "source": [
    "\"\"\"\n",
    "\tConsiderando uma matriz Sx3 de aproximações, calcula a média dessas aproximações e armazena numa matriz Sx1\n",
    "\"\"\"\n",
    "\n",
    "def media(M,S):\n",
    "\tmatriz = np.zeros((S,1))\n",
    "\n",
    "\tfor i in range(0,S):\n",
    "\t\taEq1 = M[i,0] # percentual de aproximação da equação 1 para a sequência i\n",
    "\t\taEq2 = M[i,1] # percentual de aproximação da equação 2 para a sequência i\n",
    "\t\taEq3 = M[i,2] # percentual de aproximação da equação 3 para a sequência i\n",
    "\t\t\n",
    "\t\tmSis = (aEq1 + aEq2 + aEq3)/3 # percentual médio de aproximação do sistema para a sequência i\n",
    "\n",
    "\t\tmatriz[i,0] = mSis # armazena a média geral de aproximação do resultado da sequência i\n",
    "\n",
    "\treturn matriz\n",
    "\n",
    "S = 5\n",
    "\n",
    "matrizDeMedia = media(matrizDeAproximacoes, S)\n",
    "print(matrizDeMedia)"
   ]
  },
  {
   "cell_type": "code",
   "execution_count": 20,
   "metadata": {
    "collapsed": false
   },
   "outputs": [
    {
     "name": "stdout",
     "output_type": "stream",
     "text": [
      "[[  283.33333333]\n",
      " [  822.22222222]\n",
      " [  894.44444444]\n",
      " [ 1316.66666667]\n",
      " [ 1522.22222222]]\n",
      "[[ -1.   4.  -2.]\n",
      " [-10.  -9.  10.]\n",
      " [  1.   9.  -2.]\n",
      " [ -7.   8.  -4.]\n",
      " [  2. -10.  -4.]]\n"
     ]
    }
   ],
   "source": [
    "\"\"\"\n",
    "\tO algoritmo de ordenação abaixo irá receber uma matriz de média de aproximações Sx1 (Ma) e a matriz de sequências Sx3\n",
    "\tcorrespondente (Ms). Essas matrizes serão ordenadas em ordem crescente.\n",
    "\"\"\"\n",
    "\n",
    "def bubbleSort(Ma, Ms, S):\n",
    "\tordenado = False\n",
    "\tmApx = np.zeros((S,1)) # recebe uma cópia da matriz de médias das aproximações\n",
    "\tmSeq = np.zeros((S,3)) # recebe uma cópia da matriz de sequências\n",
    "\n",
    "\t# Copia a matriz de aproximações\n",
    "\tfor i in range(0,S):\n",
    "\t\tmApx[i,0] = Ma[i,0]\n",
    "\t\n",
    "\t# Copia a matriz de sequências\n",
    "\tfor i in range(0,S):\n",
    "\t\tfor j in range(0,3):\n",
    "\t\t\tmSeq[i,j] = Ms[i,j]\n",
    "\n",
    "\t# Ordena as matrizes\n",
    "\twhile not ordenado:\n",
    "\t\tordenado = True\n",
    "\t\t\n",
    "\t\tfor i in range(0,S-1):\n",
    "\t\t\tif mApx[i,0] > mApx[i+1,0]:\n",
    "\t\t\t\t\n",
    "\t\t\t\t# Ordena os dados da matriz de médias de aproximação\n",
    "\t\t\t\tmApx[i,0], mApx[i+1,0] = mApx[i+1,0], mApx[i,0]\n",
    "\n",
    "\t\t\t\t# Ordena os dados da matriz de sequências\n",
    "\t\t\t\tmSeq[i,0], mSeq[i+1,0] = mSeq[i+1,0], mSeq[i,0] # coluna 0: representa os valores de x1 para a sequência i\n",
    "\t\t\t\tmSeq[i,1], mSeq[i+1,1] = mSeq[i+1,1], mSeq[i,1] # coluna 1: representa os valores de x2 para a sequência i\n",
    "\t\t\t\tmSeq[i,2], mSeq[i+1,2] = mSeq[i+1,2], mSeq[i,2] # coluna 2: representa os valores de x3 para a sequência i\n",
    "\n",
    "\t\t\t\tordenado = False\n",
    "\t\n",
    "\treturn mApx, mSeq\n",
    "\n",
    "mediaOrdenada = bubbleSort(matrizDeMedia, matrizDeSequencias, S)[0]\n",
    "sequenciaOrdenada = bubbleSort(matrizDeAproximacoes, matrizDeSequencias, S)[1]\n",
    "\n",
    "print(mediaOrdenada)\n",
    "print(sequenciaOrdenada)"
   ]
  }
 ],
 "metadata": {
  "anaconda-cloud": {},
  "kernelspec": {
   "display_name": "Python [conda root]",
   "language": "python",
   "name": "conda-root-py"
  },
  "language_info": {
   "codemirror_mode": {
    "name": "ipython",
    "version": 3
   },
   "file_extension": ".py",
   "mimetype": "text/x-python",
   "name": "python",
   "nbconvert_exporter": "python",
   "pygments_lexer": "ipython3",
   "version": "3.5.2"
  }
 },
 "nbformat": 4,
 "nbformat_minor": 1
}
