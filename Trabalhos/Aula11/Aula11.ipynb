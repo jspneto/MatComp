{
 "cells": [
  {
   "cell_type": "code",
   "execution_count": 1,
   "metadata": {},
   "outputs": [],
   "source": [
    "import numpy as np"
   ]
  },
  {
   "cell_type": "markdown",
   "metadata": {},
   "source": [
    "DEFINIÇÃO DA CONDIÇÃO DE PARADA"
   ]
  },
  {
   "cell_type": "code",
   "execution_count": 13,
   "metadata": {},
   "outputs": [],
   "source": [
    "# Recebe um vetor de listas de ponto flutuante A, conforme segue: A = [[1.,2.,3.,...],[4.,5.,6.,...],...], e um inteiro\n",
    "# i que indica a posição da lista que será trabalhada em relação ao vetor. Para o cálculo do erro relativo, denotado por\n",
    "# Dr_k, são utilizadas a lista atual e a anterior; quando a lista utilizada se encontra na posição 0, retorna o valor 1\n",
    "\n",
    "def condicaoDeParada(A, i):\n",
    "    if i == 0: return 1\n",
    "    else:\n",
    "        x = []\n",
    "        for j in range(len(A[i])): x.append(abs(A[i][j] - A[i-1][j]))\n",
    "        D_k = max(x)\n",
    "        Dr_k = D_k/max(A[i])\n",
    "        return Dr_k"
   ]
  },
  {
   "cell_type": "markdown",
   "metadata": {},
   "source": [
    "MÉTODO DE JACOBI PARA A SOLUÇÃO DE SISTEMAS LINEARES"
   ]
  },
  {
   "cell_type": "code",
   "execution_count": 30,
   "metadata": {},
   "outputs": [],
   "source": [
    "# Definição das matrizes utilizadas para o teste do método\n",
    "\n",
    "# Sistema de exemplo:\n",
    "\n",
    "# 10*x1 + 2*x2 +  1*x3 =  7\n",
    "#  1*x1 + 5*x2 +  1*x3 = -8\n",
    "#  2*x1 + 3*x2 + 10*x3 =  6\n",
    "\n",
    "# Solução (para precisão 0.05): [0.9994, -1.9998, 0.9984]\n",
    "\n",
    "A = np.array([[10,2,1],[1,5,1],[2,3,10]])\n",
    "b = np.array([[7],[-8],[6]])"
   ]
  },
  {
   "cell_type": "code",
   "execution_count": 31,
   "metadata": {},
   "outputs": [],
   "source": [
    "# Recebe uma matriz de coeficientes A, uma matriz de resultados b, e o erro relativo requerido para a aproximação. Toma\n",
    "# como aproximação inicial o vetor x = [0,0,0,...] e armazena todas as aproximações obtidas em um vetor de listas de\n",
    "# ponto flutuante X, como segue: X = [[0.1,0.2,0.3,...],[0.4,0.5,0.6,...],...]. Para apenas quando a condicaoDeParada\n",
    "# retorna o erro relativo requerido ou um erro menor. Deve se assegurar que a matriz de coeficientes gere uma lista\n",
    "# convergente para que seja executado corretamente\n",
    "\n",
    "def metodoDeJacobi(A,b,err):\n",
    "    X = []\n",
    "    x = []\n",
    "    for i in range(A.shape[0]): x.append(0)\n",
    "    X.append(x)\n",
    "    \n",
    "    k = 0\n",
    "    \n",
    "    while(condicaoDeParada(X,k) > err):\n",
    "        y = []\n",
    "        for i in range(A.shape[0]):\n",
    "            sigma = 0\n",
    "            for j in range(A.shape[0]):\n",
    "                if i != j:\n",
    "                    sigma = sigma + A[i][j]*X[k][j]\n",
    "            y.append((1/A[i][i])*(b[i][0] - sigma))\n",
    "        X.append(y)\n",
    "        k = k+1\n",
    "    return X"
   ]
  },
  {
   "cell_type": "code",
   "execution_count": 22,
   "metadata": {},
   "outputs": [
    {
     "name": "stdout",
     "output_type": "stream",
     "text": [
      "Iteração 0: [0, 0, 0].\n",
      "Iteração 1: [0.70000000000000007, -1.6000000000000001, 0.60000000000000009].\n",
      "Iteração 2: [0.95999999999999996, -1.8600000000000003, 0.94000000000000006].\n",
      "Iteração 3: [0.9780000000000002, -1.9800000000000002, 0.96600000000000008].\n",
      "Iteração 4: [0.99940000000000007, -1.9888000000000003, 0.99840000000000007].\n"
     ]
    }
   ],
   "source": [
    "# Teste do método de Jacobi para a solução de sistemas lineares. Imprime os resultados obtidos em todas as iterações\n",
    "\n",
    "X = metodoDeJacobi(A,b,0.05)\n",
    "\n",
    "for i in range(len(X)): print(\"Iteração {0}: {1}.\".format(i, X[i]))"
   ]
  },
  {
   "cell_type": "markdown",
   "metadata": {},
   "source": [
    "MÉTODO DE GAUSS-SEIDEL PARA SOLUÇÃO DE SISTEMAS LINERARES"
   ]
  },
  {
   "cell_type": "code",
   "execution_count": 32,
   "metadata": {},
   "outputs": [],
   "source": [
    "# Definição das matrizes utilizadas para o teste do método\n",
    "\n",
    "# Sistema de exemplo:\n",
    "\n",
    "# 5*x1 + 1*x2 + 1*x3 = 5\n",
    "# 3*x1 + 4*x2 + 1*x3 = 6\n",
    "# 3*x1 + 3*x2 + 6*x3 = 0\n",
    "\n",
    "# Solução (para precisão 0.05): [1.0075, 0.9912, -0.9993]\n",
    "\n",
    "C = np.array([[5,1,1],[3,4,1],[3,3,6]])\n",
    "d = np.array([[5],[6],[0]])"
   ]
  },
  {
   "cell_type": "code",
   "execution_count": 27,
   "metadata": {},
   "outputs": [],
   "source": [
    "# Recebe uma matriz de coeficientes A, uma matriz de resultados b, e o erro relativo requerido para a aproximação. Toma\n",
    "# como aproximação inicial o vetor x = [0,0,0,...] e armazena todas as aproximações obtidas em um vetor de listas de\n",
    "# ponto flutuante X, como segue: X = [[0.1,0.2,0.3,...],[0.4,0.5,0.6,...],...]. Para apenas quando a condicaoDeParada\n",
    "# retorna o erro relativo requerido ou um erro menor. Deve se assegurar que a matriz de coeficientes gere uma lista\n",
    "# convergente para que seja executado corretamente\n",
    "\n",
    "def metodoDeGaussSeidel(A,b,err):\n",
    "    X = []\n",
    "    x = []\n",
    "    for i in range(A.shape[0]): x.append(0)\n",
    "    X.append(x)\n",
    "    \n",
    "    k = 0\n",
    "    \n",
    "    while(condicaoDeParada(X,k) > err):\n",
    "        y = []\n",
    "        for i in range(A.shape[0]):\n",
    "            sigma = 0\n",
    "            for j in range(A.shape[0]):\n",
    "                if i != j:\n",
    "                    if j < len(y):\n",
    "                        sigma = sigma + A[i][j]*y[j]\n",
    "                    else:\n",
    "                        sigma = sigma + A[i][j]*X[k][j]\n",
    "            y.append((1/A[i][i])*(b[i][0] - sigma))\n",
    "        X.append(y)\n",
    "        k = k+1\n",
    "    return X"
   ]
  },
  {
   "cell_type": "code",
   "execution_count": 33,
   "metadata": {},
   "outputs": [
    {
     "name": "stdout",
     "output_type": "stream",
     "text": [
      "Iteração 0: [0, 0, 0].\n",
      "Iteração 1: [1.0, 0.75, -0.875].\n",
      "Iteração 2: [1.0250000000000001, 0.94999999999999996, -0.98749999999999993].\n",
      "Iteração 3: [1.0075000000000001, 0.99124999999999996, -0.9993749999999999].\n"
     ]
    }
   ],
   "source": [
    "# Teste do método de Gauss-Seidel para a solução de sistemas lineares. Imprime os resultados obtidos em todas as\n",
    "# iterações\n",
    "\n",
    "X = metodoDeGaussSeidel(C,d,0.05)\n",
    "\n",
    "for i in range(len(X)): print(\"Iteração {0}: {1}.\".format(i, X[i]))"
   ]
  }
 ],
 "metadata": {
  "kernelspec": {
   "display_name": "Python 3",
   "language": "python",
   "name": "python3"
  },
  "language_info": {
   "codemirror_mode": {
    "name": "ipython",
    "version": 3
   },
   "file_extension": ".py",
   "mimetype": "text/x-python",
   "name": "python",
   "nbconvert_exporter": "python",
   "pygments_lexer": "ipython3",
   "version": "3.5.3"
  }
 },
 "nbformat": 4,
 "nbformat_minor": 2
}
