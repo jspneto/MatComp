{
 "cells": [
  {
   "cell_type": "markdown",
   "metadata": {},
   "source": [
    "NORMALIZAÇÃO POR TRUNCAMENTO"
   ]
  },
  {
   "cell_type": "code",
   "execution_count": 3,
   "metadata": {},
   "outputs": [
    {
     "name": "stdout",
     "output_type": "stream",
     "text": [
      "1.25 = 0.125*10**1\n",
      "10.053 = 0.10053*10**2 = 0.1*10**2\n",
      "238.15 = 0.23815*10**3 = 0.238*10**3\n",
      "2.71828 = 0.271828*10*1 = 0.271*10**1\n",
      "0.000007 = 0.7*10**-5 (nao pode ser representado)\n",
      "718235.82 = 0.71823582*10**-6 (nao pode ser representado)\n"
     ]
    }
   ],
   "source": [
    "print('1.25 = 0.125*10**1')\n",
    "print('10.053 = 0.10053*10**2 = 0.1*10**2')\n",
    "print('238.15 = 0.23815*10**3 = 0.238*10**3')\n",
    "print('2.71828 = 0.271828*10*1 = 0.271*10**1')\n",
    "print('0.000007 = 0.7*10**-5 (nao pode ser representado)')\n",
    "print('718235.82 = 0.71823582*10**-6 (nao pode ser representado)')"
   ]
  },
  {
   "cell_type": "code",
   "execution_count": 6,
   "metadata": {},
   "outputs": [
    {
     "name": "stdout",
     "output_type": "stream",
     "text": [
      "Informe a base numérica dessa máquina: 10\n",
      "Informe o número de casas decimais após a vírgula: 4\n",
      "Informe o limite inferior: -4\n",
      "Informe o limite superior: 4\n",
      "Digite o número a ser normalizado: 987.654321\n",
      "\n",
      " 987.654321 = 0.987654321 * 10 ** 3 = 0.9876 * 10 ** 3 (normalizado por truncamento)\n"
     ]
    }
   ],
   "source": [
    "def truncamento(numr, base, mant, linf, lsup):\n",
    "    lista = numr.split('.')\n",
    "    \n",
    "    if len(lista) == 2: \n",
    "        if lista[0] != '0': string = lista[0] + lista[1]\n",
    "        else: string = lista[1]\n",
    "    else:\n",
    "        string = lista[0]\n",
    "    \n",
    "    if lista[0] != '0':\n",
    "        print(\"\\n\", numr, \"= 0.\", end='')\n",
    "        print(string, '*', base, '**', len(lista[0]), end='')\n",
    "        \n",
    "        if len(lista[0]) <= lsup:\n",
    "            trunc1 = []\n",
    "            trunc2 = []\n",
    "            \n",
    "            if len(string) < mant:\n",
    "                for i in range(0, len(string)): trunc1.append(string[i])\n",
    "                trunc1 = trunc1[::-1]\n",
    "            \n",
    "                j = 0\n",
    "                while(trunc1[j] == '0'): j = j + 1\n",
    "                for i in range(j, len(string)): trunc2.append(trunc1[i])\n",
    "                trunc2 = trunc2[::-1]\n",
    "            else:\n",
    "                for i in range(0, mant): trunc1.append(string[i])\n",
    "                trunc1 = trunc1[::-1]\n",
    "            \n",
    "                j = 0\n",
    "                while(trunc1[j] == '0'): j = j + 1\n",
    "                for i in range(j, mant): trunc2.append(trunc1[i])\n",
    "                trunc2 = trunc2[::-1]\n",
    "            \n",
    "            print(' = 0.', end='')\n",
    "            for i in range(0, len(trunc2)): print(trunc2[i], end='')\n",
    "            print(' *', base, '**', len(lista[0]), '(normalizado por truncamento)')\n",
    "        else:\n",
    "            print(' (não é possível normalizar este número nesta máquina)')\n",
    "    else:\n",
    "        print(\"\\n\", numr, \"= 0.\", end='')\n",
    "        \n",
    "        trunc1 = []\n",
    "        trunc2 = []\n",
    "        \n",
    "        j = 0\n",
    "        for i in range(0, len(string)): trunc1.append(string[i])\n",
    "        while(trunc1[j] == '0'): j = j + 1\n",
    "        for i in range(j, len(string)): trunc2.append(trunc1[i])\n",
    "        \n",
    "        for i in range(0,len(trunc2)): print(trunc2[i], end='')\n",
    "        print(' *', base, '**', -j, end='')\n",
    "        \n",
    "        if -j >= linf:\n",
    "            print(' = 0.', end='')\n",
    "            \n",
    "            if len(trunc2) < mant:\n",
    "                for i in range(0, len(trunc2)): print(trunc2[i], end='')                              \n",
    "            else:\n",
    "                trunc3 = []\n",
    "                for i in range(0, mant): trunc3.append(trunc2[i])\n",
    "                for i in range(0, len(trunc3)): print(trunc3[i], end='')\n",
    "            \n",
    "            print(' *', base, '**', -j, '(normalizado por truncamento)')\n",
    "        else:\n",
    "            print(' (não é possível normalizar este número nesta máquina)')\n",
    "            \n",
    "baseNume = int(input('Informe a base numérica dessa máquina: '))\n",
    "mantissa = int(input('Informe o número de casas decimais após a vírgula: '))\n",
    "inferior = int(input('Informe o limite inferior: '))\n",
    "superior = int(input('Informe o limite superior: '))\n",
    "entrada  = str(input('Digite o número a ser normalizado: '))\n",
    "truncamento(entrada, baseNume, mantissa, inferior, superior)"
   ]
  },
  {
   "cell_type": "markdown",
   "metadata": {},
   "source": [
    "NORMALIZAÇÃO POR ARREDONDAMENTO"
   ]
  },
  {
   "cell_type": "code",
   "execution_count": 7,
   "metadata": {},
   "outputs": [
    {
     "name": "stdout",
     "output_type": "stream",
     "text": [
      "1.25 = 0.125*10**1\n",
      "10.053 = 0.10053*10**2 = 0.101*10**2\n",
      "238.15 = 0.23815*10**3 = 0.238*10**3\n",
      "2.71828 = 0.271828*10*1 = 0.272*10**1\n",
      "0.000007 = 0.7*10**-5 (nao pode ser representado)\n",
      "718235.82 = 0.71823582*10**6 (nao pode ser representado)\n"
     ]
    }
   ],
   "source": [
    "print('1.25 = 0.125*10**1')\n",
    "print('10.053 = 0.10053*10**2 = 0.101*10**2')\n",
    "print('238.15 = 0.23815*10**3 = 0.238*10**3')\n",
    "print('2.71828 = 0.271828*10*1 = 0.272*10**1')\n",
    "print('0.000007 = 0.7*10**-5 (nao pode ser representado)')\n",
    "print('718235.82 = 0.71823582*10**6 (nao pode ser representado)')"
   ]
  },
  {
   "cell_type": "code",
   "execution_count": 9,
   "metadata": {},
   "outputs": [
    {
     "name": "stdout",
     "output_type": "stream",
     "text": [
      "Informe a base numérica dessa máquina: 10\n",
      "Informe o número de casas decimais após a vírgula: 4\n",
      "Informe o limite inferior: -4\n",
      "Informe o limite superior: 4\n",
      "Digite o número a ser normalizado: 987.654321\n",
      "\n",
      " 987.654321 = 0.987654321 * 10 ** 3 = 0.9877 * 10 ** 3 (normalizado por arredondamento)\n"
     ]
    }
   ],
   "source": [
    "def arredondamento(numr, base, mant, linf, lsup):\n",
    "    lista = numr.split('.')\n",
    "    \n",
    "    if len(lista) == 2: \n",
    "        if lista[0] != '0': string = lista[0] + lista[1]\n",
    "        else: string = lista[1]\n",
    "    else:\n",
    "        string = lista[0]\n",
    "    \n",
    "    if lista[0] != '0':\n",
    "        print(\"\\n\", numr, \"= 0.\", end='')\n",
    "        print(string, '*', base, '**', len(lista[0]), end='')\n",
    "        \n",
    "        if len(lista[0]) <= lsup:\n",
    "            trunc1 = []\n",
    "            trunc2 = []\n",
    "            \n",
    "            if len(string) < mant:\n",
    "                for i in range(0, len(string)): trunc1.append(string[i])\n",
    "                trunc1 = trunc1[::-1]\n",
    "            \n",
    "                j = 0\n",
    "                while(trunc1[j] == '0'): j = j + 1\n",
    "                for i in range(j, len(string)): trunc2.append(trunc1[i])\n",
    "                trunc2 = trunc2[::-1]\n",
    "            else:\n",
    "                for i in range(0, mant):\n",
    "                    if i == (mant-1) and int(string[i+1]) >= 5: trunc1.append(str(int(string[i]) + 1))\n",
    "                    else: trunc1.append(string[i])\n",
    "                trunc1 = trunc1[::-1]\n",
    "            \n",
    "                j = 0\n",
    "                while(trunc1[j] == '0'): j = j + 1\n",
    "                for i in range(j, mant): trunc2.append(trunc1[i])\n",
    "                trunc2 = trunc2[::-1]\n",
    "            \n",
    "            print(' = 0.', end='')\n",
    "            for i in range(0, len(trunc2)): print(trunc2[i], end='')\n",
    "            print(' *', base, '**', len(lista[0]), '(normalizado por arredondamento)')\n",
    "        else:\n",
    "            print(' (não é possível normalizar este número nesta máquina)')\n",
    "    else:\n",
    "        print(\"\\n\", numr, \"= 0.\", end='')\n",
    "        \n",
    "        trunc1 = []\n",
    "        trunc2 = []\n",
    "        \n",
    "        j = 0\n",
    "        for i in range(0, len(string)): trunc1.append(string[i])\n",
    "        while(trunc1[j] == '0'): j = j + 1\n",
    "        for i in range(j, len(string)): trunc2.append(trunc1[i])\n",
    "        \n",
    "        for i in range(0,len(trunc2)): print(trunc2[i], end='')\n",
    "        print(' *', base, '**', -j, end='')\n",
    "        \n",
    "        if -j >= linf:\n",
    "            print(' = 0.', end='')\n",
    "            \n",
    "            if len(trunc2) < mant:\n",
    "                for i in range(0, len(trunc2)): print(trunc2[i], end='')                              \n",
    "            else:\n",
    "                trunc3 = []\n",
    "                for i in range(0, mant):\n",
    "                    if i == (mant-1) and int(trunc2[i+1]) >= 5: trunc3.append(str(int(trunc2[i]) + 1))\n",
    "                    else: trunc3.append(trunc2[i])\n",
    "                for i in range(0, len(trunc3)): print(trunc3[i], end='')\n",
    "            \n",
    "            print(' *', base, '**', -j, '(normalizado por arredondamento)')\n",
    "        else:\n",
    "            print(' (não é possível normalizar este número nesta máquina)')\n",
    "            \n",
    "baseNume = int(input('Informe a base numérica dessa máquina: '))\n",
    "mantissa = int(input('Informe o número de casas decimais após a vírgula: '))\n",
    "inferior = int(input('Informe o limite inferior: '))\n",
    "superior = int(input('Informe o limite superior: '))\n",
    "entrada  = str(input('Digite o número a ser normalizado: '))\n",
    "arredondamento(entrada, baseNume, mantissa, inferior, superior)"
   ]
  },
  {
   "cell_type": "markdown",
   "metadata": {},
   "source": [
    "BINÁRIO PARA DECIMAL"
   ]
  },
  {
   "cell_type": "code",
   "execution_count": 10,
   "metadata": {},
   "outputs": [
    {
     "name": "stdout",
     "output_type": "stream",
     "text": [
      "Digite um número: 1111.1111\n",
      "\n",
      "Conversão da parte inteira:\n",
      "\t 1 * 2 ** 0 = 1\n",
      "\t 1 * 2 ** 1 = 2\n",
      "\t 1 * 2 ** 2 = 4\n",
      "\t 1 * 2 ** 3 = 8\n",
      "\n",
      "Conversão da parte fracionária: \n",
      "\t 1 * 2 ** ( - 1 ) = 0.5\n",
      "\t 1 * 2 ** ( - 2 ) = 0.25\n",
      "\t 1 * 2 ** ( - 3 ) = 0.125\n",
      "\t 1 * 2 ** ( - 4 ) = 0.0625\n",
      "\n",
      "O número 1111.1111 em decimal é 15.9375\n"
     ]
    }
   ],
   "source": [
    "def bindec(numero):\n",
    "    carac = str(numero)\n",
    "    lista = carac.split('.')\n",
    "                \n",
    "    soma1 = 0\n",
    "    soma2 = 0\n",
    "    \n",
    "    inteiro = lista[0]\n",
    "    inteiro = inteiro[::-1]\n",
    "    print(\"\\nConversão da parte inteira:\")\n",
    "    for i in range(0,len(inteiro)):\n",
    "        num = int(inteiro[i])\n",
    "        print(\"\\t\", num, \"* 2 **\", i, \"=\", num*2**i)\n",
    "        soma1 = soma1 + num*2**i\n",
    "    \n",
    "    if len(lista) == 2:\n",
    "        expoe = 0\n",
    "        fracion = lista[1]\n",
    "        print(\"\\nConversão da parte fracionária: \")\n",
    "        for i in range(0,len(fracion)):\n",
    "            expoe = expoe + 1\n",
    "            num = int(fracion[i])\n",
    "            print(\"\\t\", num, \"* 2 ** ( -\", expoe, \") =\", num*2**(-expoe))\n",
    "            soma2 = soma2 + num*2**(-expoe)\n",
    "    \n",
    "    total = soma1 + soma2\n",
    "    print(\"\\nO número\", numero, \"em decimal é\", total)\n",
    "\n",
    "entrada = input(\"Digite um número: \")\n",
    "bindec(entrada)"
   ]
  }
 ],
 "metadata": {
  "anaconda-cloud": {},
  "kernelspec": {
   "display_name": "Python 3",
   "language": "python",
   "name": "python3"
  },
  "language_info": {
   "codemirror_mode": {
    "name": "ipython",
    "version": 3
   },
   "file_extension": ".py",
   "mimetype": "text/x-python",
   "name": "python",
   "nbconvert_exporter": "python",
   "pygments_lexer": "ipython3",
   "version": "3.6.6"
  }
 },
 "nbformat": 4,
 "nbformat_minor": 2
}
