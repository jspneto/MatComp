{
 "cells": [
  {
   "cell_type": "code",
   "execution_count": 1,
   "metadata": {},
   "outputs": [
    {
     "name": "stdout",
     "output_type": "stream",
     "text": [
      "0 01101 0101010101 = 0.333251953125 ≈ 1/3\n"
     ]
    }
   ],
   "source": [
    "print('0 01101 0101010101 = 0.333251953125 ≈ 1/3')"
   ]
  },
  {
   "cell_type": "code",
   "execution_count": 4,
   "metadata": {},
   "outputs": [
    {
     "name": "stdout",
     "output_type": "stream",
     "text": [
      "0 01101 0101010101 = (-1)^0 * 2^(-2) * (1 + 1*2^(-2) + 1*2^(-4) + 1*2^(-6) + 1*2^(-8) + 1*2^(-10)\n",
      "0 01101 0101010101 = 2^(-2) + 2^(-4) + 2^(-6) + 2^(-8) + 2^(-10) + 2^(-12)\n",
      "0.333251953125\n"
     ]
    }
   ],
   "source": [
    "print('0 01101 0101010101 = (-1)^0 * 2^(-2) * (1 + 1*2^(-2) + 1*2^(-4) + 1*2^(-6) + 1*2^(-8) + 1*2^(-10)')\n",
    "print('0 01101 0101010101 = 2^(-2) + 2^(-4) + 2^(-6) + 2^(-8) + 2^(-10) + 2^(-12)')\n",
    "print(2**(-2) + 2**(-4) + 2**(-6) + 2**(-8) + 2**(-10) + 2**(-12))"
   ]
  },
  {
   "cell_type": "code",
   "execution_count": 6,
   "metadata": {},
   "outputs": [
    {
     "name": "stdout",
     "output_type": "stream",
     "text": [
      "Digite uma cadeia de 16 bits: 0011010101010101\n",
      "0.333251953125\n"
     ]
    }
   ],
   "source": [
    "def halfPrecision(num):\n",
    "    if len(num) != 16:\n",
    "        print(\"Essa sequencia não pode ser normalizada no modelo half-precision!\")\n",
    "    else:\n",
    "        exp = []\n",
    "        mat = []\n",
    "        sig = num[0]\n",
    "        \n",
    "        for i in range(1,6): exp.append(num[i])\n",
    "        for i in range(6,16): mat.append(num[i])\n",
    "        \n",
    "        n = len(exp) - 1\n",
    "        expo = 0\n",
    "        for i in range(0,len(exp)):\n",
    "            expo = expo + int(exp[i])*2**n\n",
    "            n = n - 1\n",
    "        \n",
    "        n = -1\n",
    "        sign = 0\n",
    "        for i in range(0,len(mat)):\n",
    "            sign = sign + int(mat[i])*2**n\n",
    "            n = n - 1\n",
    "        \n",
    "        if expo == 0:\n",
    "            norm = ((-1)**int(sig))*(2**(-14))*sign\n",
    "        else:\n",
    "            if expo == 31:\n",
    "                norm = 'NaN'\n",
    "            else:\n",
    "                norm = ((-1)**int(sig))*(2**(expo-15))*(1 + sign)\n",
    "                \n",
    "        print(norm)\n",
    "\n",
    "entrada = str(input('Digite uma cadeia de 16 bits: '))\n",
    "halfPrecision(entrada)"
   ]
  },
  {
   "cell_type": "code",
   "execution_count": 1,
   "metadata": {},
   "outputs": [
    {
     "name": "stdout",
     "output_type": "stream",
     "text": [
      "Digite uma cadeia de 32 bits: 00111110101010101010101010101011\n",
      "0.3333333432674408\n"
     ]
    }
   ],
   "source": [
    "def singlePrecision(num):\n",
    "    if len(num) != 32:\n",
    "        print(\"Essa sequencia não pode ser normalizada no modelo single-precision!\")\n",
    "    else:\n",
    "        exp = []\n",
    "        mat = []\n",
    "        sig = num[0]\n",
    "        \n",
    "        for i in range(1,9): exp.append(num[i])\n",
    "        for i in range(9,32): mat.append(num[i])\n",
    "        \n",
    "        n = len(exp) - 1\n",
    "        expo = 0\n",
    "        for i in range(0,len(exp)):\n",
    "            expo = expo + int(exp[i])*2**n\n",
    "            n = n - 1\n",
    "        \n",
    "        n = -1\n",
    "        sign = 0\n",
    "        for i in range(0,len(mat)):\n",
    "            sign = sign + int(mat[i])*2**n\n",
    "            n = n - 1\n",
    "        \n",
    "        if expo == 0:\n",
    "            norm = ((-1)**int(sig))*(2**(-126))*sign\n",
    "        else:\n",
    "            if expo == 255:\n",
    "                norm = 'NaN'\n",
    "            else:\n",
    "                norm = ((-1)**int(sig))*(2**(expo-127))*(1 + sign)\n",
    "                \n",
    "        print(norm)\n",
    "\n",
    "entrada = str(input('Digite uma cadeia de 32 bits: '))\n",
    "singlePrecision(entrada)"
   ]
  },
  {
   "cell_type": "code",
   "execution_count": 2,
   "metadata": {},
   "outputs": [
    {
     "name": "stdout",
     "output_type": "stream",
     "text": [
      "Digite uma cadeia de 64 bits: 0011111111010101010101010101010101010101010101010101010101010101\n",
      "0.3333333333333333\n"
     ]
    }
   ],
   "source": [
    "def doublePrecision(num):\n",
    "    if len(num) != 64:\n",
    "        print(\"Essa sequencia não pode ser normalizada no modelo double-precision!\")\n",
    "    else:\n",
    "        exp = []\n",
    "        mat = []\n",
    "        sig = num[0]\n",
    "        \n",
    "        for i in range(1,12): exp.append(num[i])\n",
    "        for i in range(12,64): mat.append(num[i])\n",
    "        \n",
    "        n = len(exp) - 1\n",
    "        expo = 0\n",
    "        for i in range(0,len(exp)):\n",
    "            expo = expo + int(exp[i])*2**n\n",
    "            n = n - 1\n",
    "        \n",
    "        n = -1\n",
    "        sign = 0\n",
    "        for i in range(0,len(mat)):\n",
    "            sign = sign + int(mat[i])*2**n\n",
    "            n = n - 1\n",
    "        \n",
    "        if expo == 0:\n",
    "            norm = ((-1)**int(sig))*(2**(-1022))*sign\n",
    "        else:\n",
    "            if expo == 2047:\n",
    "                norm = 'NaN'\n",
    "            else:\n",
    "                norm = ((-1)**int(sig))*(2**(expo-1023))*(1 + sign)\n",
    "                \n",
    "        print(norm)\n",
    "\n",
    "entrada = str(input('Digite uma cadeia de 64 bits: '))\n",
    "doublePrecision(entrada)"
   ]
  }
 ],
 "metadata": {
  "kernelspec": {
   "display_name": "Python 3",
   "language": "python",
   "name": "python3"
  },
  "language_info": {
   "codemirror_mode": {
    "name": "ipython",
    "version": 3
   },
   "file_extension": ".py",
   "mimetype": "text/x-python",
   "name": "python",
   "nbconvert_exporter": "python",
   "pygments_lexer": "ipython3",
   "version": "3.6.6"
  }
 },
 "nbformat": 4,
 "nbformat_minor": 1
}
