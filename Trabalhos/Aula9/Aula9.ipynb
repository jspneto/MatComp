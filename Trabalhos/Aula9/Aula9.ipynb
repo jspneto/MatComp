{
 "cells": [
  {
   "cell_type": "code",
   "execution_count": 2,
   "metadata": {},
   "outputs": [],
   "source": [
    "import numpy as np"
   ]
  },
  {
   "cell_type": "markdown",
   "metadata": {},
   "source": [
    "MELHORIA 1:\n",
    "\n",
    "1. Se o elemento abaixo do pivô for zero, continue.\n",
    "2. Se um dos pivôs for zero, mostrar uma mensagem de erro."
   ]
  },
  {
   "cell_type": "code",
   "execution_count": 4,
   "metadata": {},
   "outputs": [],
   "source": [
    "# Dado um sistema S, representado por uma matriz A de ordem N e por uma matriz resultado B de ordem Nx1, o algoritmo\n",
    "# abaixo pega essas matrizes e retorna a matriz triangular equivalente a A e sua matriz resultado correspondente\n",
    "\n",
    "# Aplicando a etapa 1\n",
    "\n",
    "def escalonamento1(a,b,n):\n",
    "    for k in range(n-1):\n",
    "        for i in range(k+1,n):\n",
    "            if a[i,k] == 0:\n",
    "                print(\"A iteração \", k+1, \" foi pulada\")\n",
    "                continue\n",
    "            \n",
    "            if a[i,k] == 0:\n",
    "                print(\"Do contrário, esta mensagem seria exibida\")\n",
    "            \n",
    "            m = a[i,k]/a[k,k]\n",
    "            a[i,k] = 0\n",
    "            \n",
    "            for j in range(k+1,n):\n",
    "                a[i,j] = a[i,j] - m*a[k,j]\n",
    "            \n",
    "            b[i,0] = b[i,0] - m*b[k,0]"
   ]
  },
  {
   "cell_type": "code",
   "execution_count": 5,
   "metadata": {
    "scrolled": true
   },
   "outputs": [
    {
     "name": "stdout",
     "output_type": "stream",
     "text": [
      "A iteração  1  foi pulada\n",
      "\n",
      " [[  1   2   1]\n",
      " [  0   1  -1]\n",
      " [  0   0 -12]]\n",
      "\n",
      " [[  9]\n",
      " [  3]\n",
      " [-10]]\n"
     ]
    }
   ],
   "source": [
    "# Sistema de exemplo:\n",
    "#\n",
    "# 1*x1 + 2*x2 + 1*x3 =  9\n",
    "# 2*x1 + 1*x2 - 1*x3 =  3 ==> 2*x1 será substituído por 0*x1\n",
    "# 3*x1 - 1*x2 - 2*x3 = -4\n",
    "\n",
    "A = np.matrix([[1,2,1],[0,1,-1],[3,-1,-2]])\n",
    "B = np.matrix([[9],[3],[-4]])\n",
    "\n",
    "escalonamento1(A,B,3)\n",
    "print(\"\\n\", A)\n",
    "print(\"\\n\", B)"
   ]
  },
  {
   "cell_type": "code",
   "execution_count": 7,
   "metadata": {},
   "outputs": [],
   "source": [
    "# Dado um sistema S, representado por uma matriz A de ordem N e por uma matriz resultado B de ordem Nx1, o algoritmo\n",
    "# abaixo pega essas matrizes e retorna a matriz triangular equivalente a A e sua matriz resultado correspondente\n",
    "\n",
    "# Aplicando a etapa 2\n",
    "\n",
    "def escalonamento2(a,b,n):\n",
    "    for k in range(n-1):\n",
    "        if a[k,k] == 0:\n",
    "            print(\"Pivô = 0: Nenhuma operação será executada\")\n",
    "            break\n",
    "        \n",
    "        for i in range(k+1,n):\n",
    "            if a[i,k] == 0:\n",
    "                print(\"A iteração \", k+1, \" foi pulada\")\n",
    "                continue\n",
    "            \n",
    "            if a[i,k] == 0:\n",
    "                print(\"Do contrário, esta mensagem seria exibida\")\n",
    "            \n",
    "            m = a[i,k]/a[k,k]\n",
    "            a[i,k] = 0\n",
    "            \n",
    "            for j in range(k+1,n):\n",
    "                a[i,j] = a[i,j] - m*a[k,j]\n",
    "            \n",
    "            b[i,0] = b[i,0] - m*b[k,0]"
   ]
  },
  {
   "cell_type": "code",
   "execution_count": 8,
   "metadata": {},
   "outputs": [
    {
     "name": "stdout",
     "output_type": "stream",
     "text": [
      "Pivô = 0: Nenhuma operação será executada\n",
      "\n",
      " [[ 0  2  1]\n",
      " [ 2  1 -1]\n",
      " [ 3 -1 -2]]\n",
      "\n",
      " [[ 9]\n",
      " [ 3]\n",
      " [-4]]\n"
     ]
    }
   ],
   "source": [
    "# Sistema de exemplo:\n",
    "#\n",
    "# 1*x1 + 2*x2 + 1*x3 =  9 ==> 1*x1 será substituído por 0*x1\n",
    "# 2*x1 + 1*x2 - 1*x3 =  3\n",
    "# 3*x1 - 1*x2 - 2*x3 = -4\n",
    "\n",
    "C = np.matrix([[0,2,1],[2,1,-1],[3,-1,-2]])\n",
    "D = np.matrix([[9],[3],[-4]])\n",
    "\n",
    "escalonamento2(C,D,3)\n",
    "print(\"\\n\", C)\n",
    "print(\"\\n\", D)"
   ]
  },
  {
   "cell_type": "markdown",
   "metadata": {},
   "source": [
    "MELHORIA 2:\n",
    "    \n",
    "    1 . Se o determinante for igual a 0, exibir uma mensagem de erro\n",
    "    2 . Senão, executar a Gauus Elimination"
   ]
  },
  {
   "cell_type": "code",
   "execution_count": 9,
   "metadata": {},
   "outputs": [],
   "source": [
    "# Dado um sistema S, representado por uma matriz A de ordem N e por uma matriz resultado B de ordem Nx1, o algoritmo\n",
    "# abaixo pega essas matrizes e retorna a matriz triangular equivalente a A e sua matriz resultado correspondente\n",
    "\n",
    "# Aplicando a Melhoria 2\n",
    "\n",
    "def escalonamento3(a,b,n):\n",
    "    for i in range(n):\n",
    "        if a[i,i] != 0: \n",
    "            continuar = 'true'\n",
    "        else:\n",
    "            continuar = 'false'\n",
    "            break\n",
    "    \n",
    "    if continuar == 'true':\n",
    "        escalonamento2(a,b,n)\n",
    "    else:\n",
    "        print(\"Determinante igual a 0: Nenhuma operação executada\")"
   ]
  },
  {
   "cell_type": "code",
   "execution_count": 11,
   "metadata": {},
   "outputs": [
    {
     "name": "stdout",
     "output_type": "stream",
     "text": [
      "Determinante igual a 0: Nenhuma operação executada\n",
      "\n",
      " [[ 1  2  1]\n",
      " [ 2  0 -1]\n",
      " [ 3 -1 -2]]\n",
      "\n",
      " [[ 9]\n",
      " [ 3]\n",
      " [-4]]\n"
     ]
    }
   ],
   "source": [
    "# Sistema de exemplo:\n",
    "#\n",
    "# 1*x1 + 2*x2 + 1*x3 =  9\n",
    "# 2*x1 + 1*x2 - 1*x3 =  3 ==> 1*x2 serão substituído por 0*x2\n",
    "# 3*x1 - 1*x2 - 2*x3 = -4\n",
    "\n",
    "E = np.matrix([[1,2,1],[2,0,-1],[3,-1,-2]])\n",
    "F = np.matrix([[9],[3],[-4]])\n",
    "\n",
    "escalonamento3(E,F,3)\n",
    "\n",
    "print(\"\\n\", E)\n",
    "print(\"\\n\", F)"
   ]
  },
  {
   "cell_type": "markdown",
   "metadata": {},
   "source": [
    "PIVOTEAMENTO PARCIAL: CONTAR O NÚMERO DE TROCAS DE LINHA FEITOS NUMA MATRIZ"
   ]
  },
  {
   "cell_type": "code",
   "execution_count": 16,
   "metadata": {},
   "outputs": [],
   "source": [
    "# Pega duas matrizes a e b, de ordem n e nx1, respectivamente, e retorna um única matriz x com os elementos de a e b\n",
    "\n",
    "def concatenacaoDeMatrizes(a,b):\n",
    "    x = np.zeros((a.shape[0], a.shape[1]+1))\n",
    "    x[:,:-1] = a\n",
    "    x[:,-1:] = b\n",
    "    return x"
   ]
  },
  {
   "cell_type": "code",
   "execution_count": 15,
   "metadata": {},
   "outputs": [],
   "source": [
    "# Pega uma matriz x, de n linhas e n+1 colunas, e a divide em duas matrizes menores a e b, de ordem n e nx1,\n",
    "# respectivamente\n",
    "\n",
    "def separacaoDeMatrizes(a,b,x):\n",
    "    for i in range(a.shape[0]):\n",
    "        for j in range(a.shape[0]):\n",
    "            a[i,j] = x[i,j]\n",
    "        b[i,0] = x[i,-1]"
   ]
  },
  {
   "cell_type": "code",
   "execution_count": 17,
   "metadata": {},
   "outputs": [],
   "source": [
    "# Pega uma matriz x, de n linhas e n+1 colunas, e a divide em duas matrizes menores a e b, de ordem n e nx1 respect.\n",
    "\n",
    "def separacaoDeMatrizes(a,b,x):\n",
    "    for i in range(a.shape[0]):\n",
    "        for j in range(a.shape[0]):\n",
    "            a[i,j] = x[i,j]\n",
    "        b[i,0] = x[i,-1]"
   ]
  },
  {
   "cell_type": "code",
   "execution_count": 18,
   "metadata": {},
   "outputs": [],
   "source": [
    "# Inverte a posição de duas linhas de uma matriz x\n",
    "\n",
    "def trocaDeLinha(x,i,k,indexMax):\n",
    "    iChange = indexMax + i\n",
    "    aux = np.copy(x[k,:])\n",
    "    x[k,:] = np.copy(x[iChange,:])\n",
    "    x[iChange,:] = np.copy(aux)"
   ]
  },
  {
   "cell_type": "code",
   "execution_count": 25,
   "metadata": {},
   "outputs": [],
   "source": [
    "# Concatena duas matrizes a e b, cria uma matriz coluna com os elementos abaixo do pivô x[k,k] e efetua a troca de\n",
    "# posição entre a linha do pivô e a linha que contém o maior elemento na mesma coluna\n",
    "\n",
    "def pivoteamento(a,b,k,i):\n",
    "    x = concatenacaoDeMatrizes(a,b) # união das matrizes a e b numa única matriz x\n",
    "    n = np.shape(x)[0] - 1          # último index de x\n",
    "    col = x[i:n+1,k]                # matriz coluna com os elementos abaixo do pivô\n",
    "    colAbs = np.abs(col)            # matriz de valores absolutos da matriz coluna\n",
    "    indexMax = np.argmax(colAbs)    # index do valor máximo da matriz de números absolutos\n",
    "    trocaDeLinha(x,i,k,indexMax)    # efetua a troca entre a linha do pivô e a linha do elemento máximo\n",
    "    separacaoDeMatrizes(a,b,x)      # efetua a separação de x nas matrizes a e b originais\n",
    "    return 1                        # retorna que uma operação de troca de linha foi feita"
   ]
  },
  {
   "cell_type": "code",
   "execution_count": 28,
   "metadata": {},
   "outputs": [],
   "source": [
    "# Dada uma matriz de coeficientes A e uma matriz de resultados B, efetua as trocas de linha necessárias para que o\n",
    "# escalonamento seja feito corretamente e retorna o número de trocas feitas até a conclusão do processo\n",
    "\n",
    "def escalonamentoComPivoteamento(a,b):\n",
    "    t = 0\n",
    "    for k in range(a.shape[0]-1):\n",
    "        for i in range(k+1,a.shape[0]):\n",
    "            t = t + pivoteamento(a,b,k,i)\n",
    "            m = a[i,k]/a[k,k]\n",
    "            a[i,k] = 0\n",
    "            \n",
    "            for j in range(k+1,a.shape[0]):\n",
    "                a[i,j] = a[i,j] - m*a[k,j]\n",
    "            \n",
    "            b[i,0] = b[i,0] - m*b[k,0]\n",
    "    return t"
   ]
  },
  {
   "cell_type": "code",
   "execution_count": 30,
   "metadata": {},
   "outputs": [],
   "source": [
    "# Dado um sistema S, representado por uma matriz A uma matriz resultado B, o algoritmo abaixo pega uma matriz triangular\n",
    "# equivalente e sua matriz resultado correspondente e calcula a solução de S\n",
    "\n",
    "def solucao(a,b):\n",
    "    n = a.shape[0]\n",
    "    x = np.zeros((n,1)) # Cria uma matriz x[n,1] para receber a solução\n",
    "    x[n-1,0] = b[n-1,0]/a[n-1,n-1]\n",
    "    \n",
    "    for k in range(n-1,-1,-1):\n",
    "        s = 0\n",
    "        for j in range(k+1,n):\n",
    "            s = s + a[k,j]*x[j,0]\n",
    "            x[k,0] = (b[k,0] - s)/a[k,k]\n",
    "    \n",
    "    return x"
   ]
  },
  {
   "cell_type": "code",
   "execution_count": 32,
   "metadata": {},
   "outputs": [
    {
     "name": "stdout",
     "output_type": "stream",
     "text": [
      "\n",
      "Matriz concatenada:\n",
      "\n",
      " [[ 1.  2.  1.  9.]\n",
      " [ 2.  1. -1.  3.]\n",
      " [ 3. -1. -2. -4.]]\n",
      "\n",
      "Matriz de coeficientes escalonada:\n",
      "\n",
      " [[ 1.  2.  1.]\n",
      " [ 0. -3. -3.]\n",
      " [ 0.  0.  2.]]\n",
      "\n",
      "Matriz de resultados escalonada: \n",
      "\n",
      " [[  9.]\n",
      " [-15.]\n",
      " [  4.]]\n",
      "\n",
      "Solução:\n",
      "\n",
      " [[ 1.]\n",
      " [ 3.]\n",
      " [ 2.]]\n"
     ]
    }
   ],
   "source": [
    "# Solução sem pivoteamento:\n",
    "\n",
    "# Sistema de exemplo:\n",
    "#\n",
    "# 1*x1 + 2*x2 + 1*x3 =  9\n",
    "# 2*x1 + 1*x2 - 1*x3 =  3\n",
    "# 3*x1 - 1*x2 - 2*x3 = -4\n",
    "\n",
    "G = np.matrix([[1.,2.,1.],[2.,1.,-1.],[3.,-1.,-2.]])\n",
    "H = np.matrix([[9.],[3.],[-4.]])\n",
    "I = concatenacaoDeMatrizes(G,H)\n",
    "escalonamento3(G,H,3)\n",
    "S = solucao(G,H)\n",
    "\n",
    "print(\"\\nMatriz concatenada:\\n\\n\", I)\n",
    "print(\"\\nMatriz de coeficientes escalonada:\\n\\n\", G)\n",
    "print(\"\\nMatriz de resultados escalonada: \\n\\n\", H)\n",
    "print(\"\\nSolução:\\n\\n\", S)"
   ]
  },
  {
   "cell_type": "code",
   "execution_count": 36,
   "metadata": {},
   "outputs": [
    {
     "name": "stdout",
     "output_type": "stream",
     "text": [
      "\n",
      "Matriz concatenada:\n",
      "\n",
      " [[ 1.  2.  1.  9.]\n",
      " [ 2.  1. -1.  3.]\n",
      " [ 3. -1. -2. -4.]]\n",
      "\n",
      "Matriz de coeficientes escalonada (compivoteamento):\n",
      "\n",
      " [[ 1.          2.          1.        ]\n",
      " [ 0.         -7.         -5.        ]\n",
      " [ 0.          0.         -0.85714286]]\n",
      "\n",
      "Matriz de resultados escalonada (com pivoteamento): \n",
      "\n",
      " [[  9.        ]\n",
      " [-31.        ]\n",
      " [ -1.71428571]]\n",
      "\n",
      "Numero de trocas de linha:  3\n",
      "\n",
      "Solução:\n",
      "\n",
      " [[ 1.]\n",
      " [ 3.]\n",
      " [ 2.]]\n"
     ]
    }
   ],
   "source": [
    "# Solução com pivoteamento:\n",
    "\n",
    "# Sistema de exemplo:\n",
    "#\n",
    "# 1*x1 + 2*x2 + 1*x3 =  9\n",
    "# 2*x1 + 1*x2 - 1*x3 =  3\n",
    "# 3*x1 - 1*x2 - 2*x3 = -4\n",
    "\n",
    "J = np.matrix([[1.,2.,1.],[2.,1.,-1.],[3.,-1.,-2.]])\n",
    "K = np.matrix([[9.],[3.],[-4.]])\n",
    "L = concatenacaoDeMatrizes(J,K)\n",
    "trocasDeLinha = escalonamentoComPivoteamento(J,K)\n",
    "T = solucao(J,K)\n",
    "\n",
    "print(\"\\nMatriz concatenada:\\n\\n\", L)\n",
    "print(\"\\nMatriz de coeficientes escalonada (compivoteamento):\\n\\n\", J)\n",
    "print(\"\\nMatriz de resultados escalonada (com pivoteamento): \\n\\n\", K)\n",
    "print(\"\\nNumero de trocas de linha: \", trocasDeLinha)\n",
    "print(\"\\nSolução:\\n\\n\", T)"
   ]
  }
 ],
 "metadata": {
  "kernelspec": {
   "display_name": "Python 3",
   "language": "python",
   "name": "python3"
  },
  "language_info": {
   "codemirror_mode": {
    "name": "ipython",
    "version": 3
   },
   "file_extension": ".py",
   "mimetype": "text/x-python",
   "name": "python",
   "nbconvert_exporter": "python",
   "pygments_lexer": "ipython3",
   "version": "3.5.3"
  }
 },
 "nbformat": 4,
 "nbformat_minor": 2
}
