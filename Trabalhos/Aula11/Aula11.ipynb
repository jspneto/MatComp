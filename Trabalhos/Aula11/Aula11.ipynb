{
 "cells": [
  {
   "cell_type": "code",
   "execution_count": 62,
   "metadata": {},
   "outputs": [],
   "source": [
    "import numpy as np\n",
    "import matplotlib.pyplot as plt\n",
    "plt.rcParams['figure.figsize'] = (12,8)"
   ]
  },
  {
   "cell_type": "markdown",
   "metadata": {},
   "source": [
    "DEFINIÇÃO DA CONDIÇÃO DE PARADA"
   ]
  },
  {
   "cell_type": "code",
   "execution_count": 79,
   "metadata": {},
   "outputs": [],
   "source": [
    "# Recebe um vetor de listas de ponto flutuante A, conforme segue: A = [[1.,2.,3.,...],[4.,5.,6.,...],...], e um inteiro\n",
    "# i que indica a posição da lista que será trabalhada em relação ao vetor. Para o cálculo do erro relativo, denotado por\n",
    "# Dr_k, são utilizadas a lista atual e a anterior; quando a lista utilizada se encontra na posição 0, retorna o valor 1\n",
    "\n",
    "def condicaoDeParada(A, i):\n",
    "    if i == 0: return 1\n",
    "    else:\n",
    "        x = []\n",
    "        for j in range(len(A[i])): x.append(abs(A[i][j] - A[i-1][j]))\n",
    "        D_k = max(x)\n",
    "        Dr_k = D_k/max(A[i])\n",
    "        return Dr_k"
   ]
  },
  {
   "cell_type": "markdown",
   "metadata": {},
   "source": [
    "MÉTODO DE JACOBI PARA A SOLUÇÃO DE SISTEMAS LINEARES"
   ]
  },
  {
   "cell_type": "code",
   "execution_count": 34,
   "metadata": {},
   "outputs": [],
   "source": [
    "# Definição das matrizes utilizadas para o teste do método\n",
    "\n",
    "# Sistema de exemplo:\n",
    "\n",
    "# 10*x1 + 2*x2 +  1*x3 =  7\n",
    "#  1*x1 + 5*x2 +  1*x3 = -8\n",
    "#  2*x1 + 3*x2 + 10*x3 =  6\n",
    "\n",
    "# Solução (para precisão 0.05): [0.9994, -1.9998, 0.9984]\n",
    "\n",
    "A = np.array([[10,2,1],[1,5,1],[2,3,10]])\n",
    "b = np.array([[7],[-8],[6]])"
   ]
  },
  {
   "cell_type": "code",
   "execution_count": 35,
   "metadata": {},
   "outputs": [],
   "source": [
    "# Define um critério de convergência para os sistemas aplicados ao método de Jacobi. É importante ressaltar que a não\n",
    "# convergência por esse critério não garante que o sistema não possa ser resolvido pelo método de Jacobi. Recebe uma\n",
    "# matriz de coeficientes A\n",
    "\n",
    "def criterioDasLinhas(A):\n",
    "    x = []\n",
    "    \n",
    "    for i in range(A.shape[0]):\n",
    "        soma = 0\n",
    "        for j in range(A.shape[0]):\n",
    "            if i != j:\n",
    "                soma = soma + A[i][j]\n",
    "        x.append(soma/A[i][i])\n",
    "\n",
    "    if(max(x) < 1):\n",
    "        return 1 # converge\n",
    "    else:\n",
    "        return 0 # não converge"
   ]
  },
  {
   "cell_type": "code",
   "execution_count": 42,
   "metadata": {},
   "outputs": [
    {
     "name": "stdout",
     "output_type": "stream",
     "text": [
      "O sistema converge para uma solução exata!\n"
     ]
    }
   ],
   "source": [
    "# Teste para o critério de convergência. Imprime o resultado da verificação na tela\n",
    "\n",
    "if criterioDasLinhas(A) == 1:\n",
    "    print(\"O sistema converge para uma solução exata!\")\n",
    "else:\n",
    "    print(\"Não é possível definir se o sistema converge para uma solução exata com este método!\")"
   ]
  },
  {
   "cell_type": "code",
   "execution_count": 39,
   "metadata": {},
   "outputs": [],
   "source": [
    "# Recebe uma matriz de coeficientes A, uma matriz de resultados b, e o erro relativo requerido para a aproximação. Toma\n",
    "# como aproximação inicial o vetor x = [0,0,0,...] e armazena todas as aproximações obtidas em um vetor de listas de\n",
    "# ponto flutuante X, como segue: X = [[0.1,0.2,0.3,...],[0.4,0.5,0.6,...],...]. Para apenas quando a condicaoDeParada\n",
    "# retorna o erro relativo requerido ou um erro menor. Deve se assegurar que a matriz de coeficientes gere uma lista\n",
    "# convergente para que seja executado corretamente\n",
    "\n",
    "def metodoDeJacobi(A,b,err):\n",
    "    X = []\n",
    "    x = []\n",
    "    for i in range(A.shape[0]): x.append(0)\n",
    "    X.append(x)\n",
    "    \n",
    "    k = 0\n",
    "    \n",
    "    while(condicaoDeParada(X,k) > err):\n",
    "        y = []\n",
    "        for i in range(A.shape[0]):\n",
    "            sigma = 0\n",
    "            for j in range(A.shape[0]):\n",
    "                if i != j:\n",
    "                    sigma = sigma + A[i][j]*X[k][j]\n",
    "            y.append((1/A[i][i])*(b[i][0] - sigma))\n",
    "        X.append(y)\n",
    "        k = k+1\n",
    "    return X"
   ]
  },
  {
   "cell_type": "code",
   "execution_count": 22,
   "metadata": {},
   "outputs": [
    {
     "name": "stdout",
     "output_type": "stream",
     "text": [
      "Iteração 0: [0, 0, 0].\n",
      "Iteração 1: [0.70000000000000007, -1.6000000000000001, 0.60000000000000009].\n",
      "Iteração 2: [0.95999999999999996, -1.8600000000000003, 0.94000000000000006].\n",
      "Iteração 3: [0.9780000000000002, -1.9800000000000002, 0.96600000000000008].\n",
      "Iteração 4: [0.99940000000000007, -1.9888000000000003, 0.99840000000000007].\n"
     ]
    }
   ],
   "source": [
    "# Teste do método de Jacobi para a solução de sistemas lineares. Imprime os resultados obtidos em todas as iterações\n",
    "\n",
    "X = metodoDeJacobi(A,b,0.05)\n",
    "\n",
    "for i in range(len(X)): print(\"Iteração {0}: {1}.\".format(i, X[i]))"
   ]
  },
  {
   "cell_type": "markdown",
   "metadata": {},
   "source": [
    "MÉTODO DE GAUSS-SEIDEL PARA SOLUÇÃO DE SISTEMAS LINERARES"
   ]
  },
  {
   "cell_type": "code",
   "execution_count": 32,
   "metadata": {},
   "outputs": [],
   "source": [
    "# Definição das matrizes utilizadas para o teste do método\n",
    "\n",
    "# Sistema de exemplo:\n",
    "\n",
    "# 5*x1 + 1*x2 + 1*x3 = 5\n",
    "# 3*x1 + 4*x2 + 1*x3 = 6\n",
    "# 3*x1 + 3*x2 + 6*x3 = 0\n",
    "\n",
    "# Solução (para precisão 0.05): [1.0075, 0.9912, -0.9993]\n",
    "\n",
    "C = np.array([[5,1,1],[3,4,1],[3,3,6]])\n",
    "d = np.array([[5],[6],[0]])"
   ]
  },
  {
   "cell_type": "code",
   "execution_count": 40,
   "metadata": {},
   "outputs": [],
   "source": [
    "# Recebe uma matriz de coeficientes A, uma matriz de resultados b, e o erro relativo requerido para a aproximação. Toma\n",
    "# como aproximação inicial o vetor x = [0,0,0,...] e armazena todas as aproximações obtidas em um vetor de listas de\n",
    "# ponto flutuante X, como segue: X = [[0.1,0.2,0.3,...],[0.4,0.5,0.6,...],...]. Para apenas quando a condicaoDeParada\n",
    "# retorna o erro relativo requerido ou um erro menor. Deve se assegurar que a matriz de coeficientes gere uma lista\n",
    "# convergente para que seja executado corretamente\n",
    "\n",
    "def metodoDeGaussSeidel(A,b,err):\n",
    "    X = []\n",
    "    x = []\n",
    "    for i in range(A.shape[0]): x.append(0)\n",
    "    X.append(x)\n",
    "    \n",
    "    k = 0\n",
    "    \n",
    "    while(condicaoDeParada(X,k) > err):\n",
    "        y = []\n",
    "        for i in range(A.shape[0]):\n",
    "            sigma = 0\n",
    "            for j in range(A.shape[0]):\n",
    "                if i != j:\n",
    "                    if j < len(y):\n",
    "                        sigma = sigma + A[i][j]*y[j]\n",
    "                    else:\n",
    "                        sigma = sigma + A[i][j]*X[k][j]\n",
    "            y.append((1/A[i][i])*(b[i][0] - sigma))\n",
    "        X.append(y)\n",
    "        k = k+1\n",
    "    return X"
   ]
  },
  {
   "cell_type": "code",
   "execution_count": 43,
   "metadata": {},
   "outputs": [
    {
     "name": "stdout",
     "output_type": "stream",
     "text": [
      "Iteração 0: [0, 0, 0].\n",
      "Iteração 1: [1.0, 0.75, -0.875].\n",
      "Iteração 2: [1.0250000000000001, 0.94999999999999996, -0.98749999999999993].\n",
      "Iteração 3: [1.0075000000000001, 0.99124999999999996, -0.9993749999999999].\n"
     ]
    }
   ],
   "source": [
    "# Teste do método de Gauss-Seidel para a solução de sistemas lineares. Imprime os resultados obtidos em todas as\n",
    "# iterações\n",
    "\n",
    "X = metodoDeGaussSeidel(C,d,0.05)\n",
    "\n",
    "for i in range(len(X)): print(\"Iteração {0}: {1}.\".format(i, X[i]))"
   ]
  },
  {
   "cell_type": "markdown",
   "metadata": {},
   "source": [
    "INTERPRETAÇÃO GEOMÉTRICA PARA O MÉTODO DE JACOBI"
   ]
  },
  {
   "cell_type": "code",
   "execution_count": 44,
   "metadata": {},
   "outputs": [],
   "source": [
    "# Definição das matrizes de exemplo:\n",
    "\n",
    "# Sistema de exemplo:\n",
    "\n",
    "# 1*x1 + 1*x2 =  3\n",
    "# 1*x1 - 3*x2 = -3\n",
    "\n",
    "# Solução (para precisão 0.3): [1.3333, 1.3333]\n",
    "\n",
    "E = np.array([[1,1],[1,-3]])\n",
    "f = np.array([[3],[-3]])"
   ]
  },
  {
   "cell_type": "code",
   "execution_count": 46,
   "metadata": {},
   "outputs": [
    {
     "name": "stdout",
     "output_type": "stream",
     "text": [
      "Iteração 0: [0, 0].\n",
      "Iteração 1: [3.0, 1.0].\n",
      "Iteração 2: [2.0, 2.0].\n",
      "Iteração 3: [1.0, 1.6666666666666665].\n",
      "Iteração 4: [1.3333333333333335, 1.3333333333333333].\n"
     ]
    }
   ],
   "source": [
    "# Cálculo das iterações. Cada iteração será representada por um ponto no gráfico\n",
    "\n",
    "X = metodoDeJacobi(E,f,0.30)\n",
    "\n",
    "for i in range(len(X)): print(\"Iteração {0}: {1}.\".format(i, X[i]))"
   ]
  },
  {
   "cell_type": "code",
   "execution_count": 64,
   "metadata": {},
   "outputs": [
    {
     "data": {
      "image/png": "[encoded data removed]",
      "text/plain": [
       "<matplotlib.figure.Figure at 0xaff7dfac>"
      ]
     },
     "metadata": {
      "needs_background": "light"
     },
     "output_type": "display_data"
    }
   ],
   "source": [
    "# Gráfico do sistema em comparação com as iterações. O ponto em que as retas se encontram é a solução exata do sistema\n",
    "\n",
    "x = np.linspace(-5,5)\n",
    "x1 = 3 - x\n",
    "x2 = (1/3)*(3 + x)\n",
    "\n",
    "plt.title(\"FIG 1: INTERPRETAÇÃO GEOMÉTRICA DO MÉTODO DE JACOBI\")\n",
    "plt.axvline(x = 0, color = 'black')\n",
    "plt.axhline(y = 0, color = 'black')\n",
    "\n",
    "plt.grid(True)\n",
    "plt.plot([X[0][0],X[1][0],X[2][0],X[3][0],X[4][0]], [X[0][1],X[1][1],X[2][1],X[3][1],X[4][1]], 'ro', color = 'blue')\n",
    "plt.plot(x, x1, color = 'green')\n",
    "plt.plot(x, x2, color = 'brown')\n",
    "plt.show()"
   ]
  },
  {
   "cell_type": "markdown",
   "metadata": {},
   "source": [
    "INTERPRETAÇÃO GEOMÉTRICA PARA O MÉTODO DE GAUSS-SEIDEL"
   ]
  },
  {
   "cell_type": "code",
   "execution_count": 76,
   "metadata": {},
   "outputs": [],
   "source": [
    "# Definição das matrizes de exemplo:\n",
    "\n",
    "# Sistema de exemplo:\n",
    "\n",
    "# 1*x1 + 1*x2 =  3\n",
    "# 1*x1 - 3*x2 = -3\n",
    "\n",
    "# Solução (para precisão 0.3): [1.4444, 1.4814]\n",
    "\n",
    "G = np.array([[1,1],[1,-3]])\n",
    "h = np.array([[3],[-3]])"
   ]
  },
  {
   "cell_type": "code",
   "execution_count": 77,
   "metadata": {},
   "outputs": [
    {
     "name": "stdout",
     "output_type": "stream",
     "text": [
      "Iteração 0: [0, 0].\n",
      "Iteração 1: [3.0, 2.0].\n",
      "Iteração 2: [1.0, 1.3333333333333333].\n",
      "Iteração 3: [1.6666666666666667, 1.5555555555555556].\n",
      "Iteração 4: [1.4444444444444444, 1.4814814814814814].\n"
     ]
    }
   ],
   "source": [
    "# Cálculo das iterações. Cada iteração será representada por um ponto no gráfico\n",
    "\n",
    "X = metodoDeGaussSeidel(G,h,0.3)\n",
    "\n",
    "for i in range(len(X)): print(\"Iteração {0}: {1}.\".format(i, X[i]))"
   ]
  },
  {
   "cell_type": "code",
   "execution_count": 81,
   "metadata": {},
   "outputs": [
    {
     "data": {
      "image/png": "[encoded data removed]",
      "text/plain": [
       "<matplotlib.figure.Figure at 0xafde630c>"
      ]
     },
     "metadata": {
      "needs_background": "light"
     },
     "output_type": "display_data"
    }
   ],
   "source": [
    "# Gráfico do sistema em comparação com as iterações. O ponto em que as retas se encontram é a solução exata do sistema\n",
    "\n",
    "x = np.linspace(-5,5)\n",
    "x1 = 3 - x\n",
    "x2 = (1/3)*(3 + x)\n",
    "\n",
    "plt.title(\"FIG 2: INTERPRETAÇÃO GEOMÉTRICA DO MÉTODO DE GAUSS-SEIDEL\")\n",
    "plt.axvline(x = 0, color = 'black')\n",
    "plt.axhline(y = 0, color = 'black')\n",
    "\n",
    "plt.grid(True)\n",
    "plt.plot([X[0][0],X[1][0],X[2][0],X[3][0],X[4][0]], [X[0][1],X[1][1],X[2][1],X[3][1],X[4][1]], 'ro', color = 'blue')\n",
    "plt.plot(x, x1, color = 'green')\n",
    "plt.plot(x, x2, color = 'brown')\n",
    "plt.show()"
   ]
  },
  {
   "cell_type": "markdown",
   "metadata": {},
   "source": [
    "TESTE DA CONDIÇÃO DE PARADA APLICADA AO EXEMPLO 1 (VIDE APOSTILA METODOS ITERATIVOS)"
   ]
  },
  {
   "cell_type": "code",
   "execution_count": 104,
   "metadata": {},
   "outputs": [
    {
     "name": "stdout",
     "output_type": "stream",
     "text": [
      "Iteração 0: [0, 0, 0, 0].\n",
      "Iteração 1: [0.60000000000000009, 2.2727272727272729, -1.1000000000000001, 1.875].\n",
      "Iteração 2: [1.0472727272727274, 1.7159090909090911, -0.80522727272727279, 0.88522727272727275].\n",
      "Iteração 3: [0.93263636363636371, 2.0533057851239671, -1.0493409090909092, 1.1308806818181818].\n",
      "Iteração 4: [1.0151987603305785, 1.9536957644628101, -0.96810862603305792, 0.97384271694214875].\n",
      "Iteração 5: [0.98899130165289262, 2.0114147257700976, -1.01028590392562, 1.0213505100723139].\n",
      "Iteração 6: [1.0031986533621338, 1.9922412606827575, -0.99452173674633737, 0.99443373984551087].\n",
      "Iteração 7: [0.99812847341754329, 2.0023068815526601, -1.0019722306195999, 1.0035943101506737].\n",
      "Iteração 8: [1.0006251342791861, 1.9986703011223566, -0.99903557551317523, 0.99888839059030243].\n",
      "Iteração 9: [0.99967414521487086, 2.0004476715450092, -1.0003691576845712, 1.0006191901399695].\n",
      "Iteração 10: [1.0001185986914152, 1.9997679470100356, -0.9998281428744763, 0.99978597846005013].\n",
      "Iteração 11: [0.99994242327589888, 2.0000847745851624, -1.0000683271912745, 1.0001085020119271].\n",
      "Iteração 12: [1.000022142896771, 1.9999589627317129, -0.99996915699547084, 0.99995966863165475].\n",
      "Iteração 13: [0.99998972767226546, 2.0000158163642126, -1.0000125654430174, 1.0000192443511737].\n",
      "Iteração 14: [1.0000040947250248, 1.9999926753796116, -0.99999443946291455, 0.99999249818304314].\n",
      "Iteração 15: [0.99999815543054416, 2.0000029237011798, -1.0000023015887396, 1.0000034417997814].\n",
      "Iteração 16: [1.0000007526878658, 1.99999868440386, -0.99999899453601282, 0.99999861591346506].\n",
      "Iteração 17: [0.99999966734758861, 2.0000005373101324, -1.0000004205058406, 1.0000006190315509].\n",
      "Iteração 18: [1.0000001378321814, 1.9999997627042814, -0.99999981783534941, 0.99999974594547025].\n",
      "Iteração 19: [0.99999993983749802, 2.0000000983782202, -1.0000000767014612, 1.0000001117564756].\n",
      "Iteração 20: [1.0000000251781143, 1.9999999570787828, -0.99999996695403004, 0.99999995352048476].\n",
      "Iteração 21: [0.99999998909868426, 2.00000001796933, -1.0000000139756962, 1.0000000202262027].\n",
      "Iteração 22: [1.0000000045920723, 1.9999999922222165, -0.99999999400018358, 0.99999999151453922].\n",
      "Iteração 23: [0.99999999802225836, 2.0000000032771155, -1.0000000025447389, 1.0000000036666459].\n",
      "Iteração 24: [1.0000000008366594, 1.9999999985888712, -0.99999999891007563, 0.99999999845298937].\n",
      "Iteração 25: [0.99999999964090236, 2.0000000005970562, -1.0000000004631457, 1.0000000006654139].\n",
      "Iteração 26: [1.0000000001523348, 1.9999999997437741, -0.99999999980193344, 0.99999999971821074].\n",
      "Iteração 27: [0.99999999993476407, 2.0000000001087064, -1.0000000000842684, 1.0000000001208429].\n",
      "Iteração 28: [1.0000000000277243, 1.9999999999534517, -0.99999999996399791, 0.99999999994870148].\n",
      "Iteração 29: [0.99999999998814482, 2.0000000000197837, -1.0000000000153297, 1.0000000000219558].\n",
      "Iteração 30: [1.0000000000050444, 1.9999999999915408, -0.99999999999345501, 0.9999999999906648].\n",
      "Iteração 31: [0.99999999999784517, 2.0000000000035998, -1.0000000000027884, 1.0000000000039904].\n",
      "Iteração 32: [1.0000000000009177, 1.9999999999984623, -0.99999999999881006, 0.99999999999830158].\n",
      "Iteração 33: [0.9999999999996082, 2.000000000000655, -1.0000000000005071, 1.0000000000007254].\n",
      "Iteração 34: [1.000000000000167, 1.9999999999997204, -0.99999999999978373, 0.99999999999969102].\n",
      "Iteração 35: [0.99999999999992883, 2.000000000000119, -1.0000000000000921, 1.0000000000001319].\n",
      "Iteração 36: [1.0000000000000304, 1.9999999999999494, -0.99999999999996081, 0.99999999999994382].\n",
      "Iteração 37: [0.99999999999998723, 2.0000000000000218, -1.0000000000000167, 1.000000000000024].\n",
      "Iteração 38: [1.0000000000000056, 1.9999999999999911, -0.99999999999999289, 0.99999999999998967].\n",
      "Iteração 39: [0.99999999999999778, 2.000000000000004, -1.0000000000000031, 1.0000000000000042].\n",
      "Iteração 40: [1.0000000000000011, 1.9999999999999984, -0.99999999999999878, 0.999999999999998].\n",
      "Iteração 41: [0.99999999999999967, 2.0000000000000009, -1.0000000000000007, 1.0000000000000007].\n",
      "Iteração 42: [1.0000000000000002, 1.9999999999999998, -0.99999999999999989, 0.99999999999999956].\n",
      "Iteração 43: [1.0, 2.0, -1.0000000000000002, 1.0].\n",
      "Iteração 44: [1.0, 2.0, -1.0, 1.0].\n"
     ]
    }
   ],
   "source": [
    "# Aplicada ao método de Jacobi\n",
    "\n",
    "I = np.array([[10,-1,2,0],[-1,11,-1,3],[2,-1,10,-1],[0,3,-1,8]])\n",
    "j = np.array([[6],[25],[-11],[15]])\n",
    "\n",
    "X = metodoDeJacobi(I,j,2e-16)\n",
    "\n",
    "for i in range(len(X)): print(\"Iteração {0}: {1}.\".format(i, X[i]))"
   ]
  },
  {
   "cell_type": "code",
   "execution_count": 107,
   "metadata": {},
   "outputs": [
    {
     "name": "stdout",
     "output_type": "stream",
     "text": [
      "Iteração 0: [0, 0, 0, 0].\n",
      "Iteração 1: [0.60000000000000009, 2.3272727272727276, -0.9872727272727273, 0.87886363636363629].\n",
      "Iteração 2: [1.0301818181818183, 2.0369380165289259, -1.0144561983471074, 0.98434121900826432].\n",
      "Iteração 3: [1.0065850413223141, 2.003555016904583, -1.0025273846731781, 0.99835094557663406].\n",
      "Iteração 4: [1.0008609786250939, 2.000298250656547, -1.0003072761017007, 0.99984974649108227].\n",
      "Iteração 5: [1.0000912802859949, 2.000021342246459, -1.0000311471834449, 0.99998810325964727].\n",
      "Iteração 6: [1.0000083636613348, 2.0000011733362681, -1.0000027450726756, 0.99999921686481497].\n",
      "Iteração 7: [1.000000666348162, 2.0000000246073677, -1.0000002091224143, 0.9999999646319353].\n",
      "Iteração 8: [1.0000000442852197, 1.9999999946606364, -1.0000000129277868, 1.0000000003862879].\n",
      "Iteração 9: [1.0000000020516211, 1.9999999989059063, -1.0000000004811047, 1.000000000350147].\n",
      "Iteração 10: [0.99999999998681166, 1.9999999998595697, -0.99999999997639066, 1.0000000000556126].\n",
      "Iteração 11: [0.99999999998123512, 1.9999999999852733, -0.99999999999215849, 1.0000000000065028].\n",
      "Iteração 12: [0.9999999999969591, 1.9999999999986628, -0.99999999999887523, 1.0000000000006419].\n",
      "Iteração 13: [0.9999999999996414, 1.9999999999998948, -0.99999999999987466, 1.0000000000000551].\n",
      "Iteração 14: [0.99999999999996447, 1.9999999999999933, -0.99999999999998812, 1.000000000000004].\n",
      "Iteração 15: [0.999999999999997, 1.9999999999999998, -0.999999999999999, 1.0000000000000002].\n",
      "Iteração 16: [0.99999999999999989, 2.0, -1.0, 1.0].\n",
      "Iteração 17: [1.0, 2.0, -1.0, 1.0].\n"
     ]
    }
   ],
   "source": [
    "# Aplicada ao método de Gauss-Seidel\n",
    "\n",
    "K = np.array([[10,-1,2,0],[-1,11,-1,3],[2,-1,10,-1],[0,3,-1,8]])\n",
    "l = np.array([[6],[25],[-11],[15]])\n",
    "\n",
    "X = metodoDeGaussSeidel(K,l,2e-16)\n",
    "\n",
    "for i in range(len(X)): print(\"Iteração {0}: {1}.\".format(i, X[i]))"
   ]
  },
  {
   "cell_type": "code",
   "execution_count": 109,
   "metadata": {},
   "outputs": [],
   "source": [
    "# Conclui-se que o método de Gauss-Seidel é muito mais eficiente que o método de Jacobi"
   ]
  },
  {
   "cell_type": "markdown",
   "metadata": {},
   "source": [
    "APOSTILA MÉTODO ITERATIVO DE JACOBI: RESOLUÇÃO DE EXEMPLOS"
   ]
  },
  {
   "cell_type": "code",
   "execution_count": 110,
   "metadata": {},
   "outputs": [
    {
     "name": "stdout",
     "output_type": "stream",
     "text": [
      "Iteração 0: [0, 0, 0].\n",
      "Iteração 1: [0.70000000000000007, -1.6000000000000001, 0.60000000000000009].\n",
      "Iteração 2: [0.95999999999999996, -1.8600000000000003, 0.94000000000000006].\n",
      "Iteração 3: [0.9780000000000002, -1.9800000000000002, 0.96600000000000008].\n",
      "Iteração 4: [0.99940000000000007, -1.9888000000000003, 0.99840000000000007].\n"
     ]
    }
   ],
   "source": [
    "# 1: Aplicação do método iterativo de Jacobi para o sistema\n",
    "\n",
    "# 10*x1 + 2*x2 +  1*x3 =  7\n",
    "#  1*x1 + 5*x2 +  1*x3 = -8\n",
    "#  2*x1 + 3*x2 + 10*x3 =  6\n",
    "\n",
    "# Já resolvido. Transcrição completa abaixo:\n",
    "\n",
    "A = np.array([[10,2,1],[1,5,1],[2,3,10]])\n",
    "b = np.array([[7],[-8],[6]])\n",
    "\n",
    "def condicaoDeParada(A, i):\n",
    "    if i == 0: return 1\n",
    "    else:\n",
    "        x = []\n",
    "        for j in range(len(A[i])): x.append(abs(A[i][j] - A[i-1][j]))\n",
    "        D_k = max(x)\n",
    "        Dr_k = D_k/max(A[i])\n",
    "        return Dr_k\n",
    "\n",
    "def metodoDeJacobi(A,b,err):\n",
    "    X = []\n",
    "    x = []\n",
    "    for i in range(A.shape[0]): x.append(0)\n",
    "    X.append(x)\n",
    "    \n",
    "    k = 0\n",
    "    \n",
    "    while(condicaoDeParada(X,k) > err):\n",
    "        y = []\n",
    "        for i in range(A.shape[0]):\n",
    "            sigma = 0\n",
    "            for j in range(A.shape[0]):\n",
    "                if i != j:\n",
    "                    sigma = sigma + A[i][j]*X[k][j]\n",
    "            y.append((1/A[i][i])*(b[i][0] - sigma))\n",
    "        X.append(y)\n",
    "        k = k+1\n",
    "    return X\n",
    "\n",
    "X = metodoDeJacobi(A,b,0.05)\n",
    "\n",
    "for i in range(len(X)): print(\"Iteração {0}: {1}.\".format(i, X[i]))"
   ]
  },
  {
   "cell_type": "code",
   "execution_count": 111,
   "metadata": {},
   "outputs": [],
   "source": [
    "# 2: Definição do critério das linhas. Já resolvido. Transcrição abaixo:\n",
    "\n",
    "def criterioDasLinhas2(A):\n",
    "    x = []\n",
    "    \n",
    "    for i in range(A.shape[0]):\n",
    "        soma = 0\n",
    "        for j in range(A.shape[0]):\n",
    "            if i != j:\n",
    "                soma = soma + A[i][j]\n",
    "        x.append(soma/A[i][i])\n",
    "\n",
    "    if(max(x) < 1):\n",
    "        return 1 # converge\n",
    "    else:\n",
    "        return 0 # não converge"
   ]
  },
  {
   "cell_type": "code",
   "execution_count": 113,
   "metadata": {},
   "outputs": [
    {
     "name": "stdout",
     "output_type": "stream",
     "text": [
      "O sistema converge para uma solução exata!\n"
     ]
    }
   ],
   "source": [
    "# Exemplo A: Teste do critério das linhas para a matriz\n",
    "\n",
    "# 10  2  1\n",
    "#  1  5  1\n",
    "#  2  3 10\n",
    "\n",
    "# Já resolvido. Transcrição abaixo:\n",
    "\n",
    "A = np.array([[10,2,1],[1,5,1],[2,3,10]])\n",
    "\n",
    "if criterioDasLinhas2(A) == 1:\n",
    "    print(\"O sistema converge para uma solução exata!\")\n",
    "else:\n",
    "    print(\"Não é possível definir se o sistema converge para uma solução exata com este método!\")"
   ]
  },
  {
   "cell_type": "code",
   "execution_count": 139,
   "metadata": {},
   "outputs": [
    {
     "name": "stdout",
     "output_type": "stream",
     "text": [
      "Não é possível definir se o sistema converge para uma solução exata com este método!\n",
      "\n",
      "Iteração 0: [0, 0].\n",
      "Iteração 1: [3.0, 1.0].\n",
      "Iteração 2: [2.0, 2.0].\n",
      "Iteração 3: [1.0, 1.6666666666666665].\n",
      "Iteração 4: [1.3333333333333335, 1.3333333333333333].\n",
      "Iteração 5: [1.6666666666666667, 1.4444444444444446].\n",
      "Iteração 6: [1.5555555555555554, 1.5555555555555556].\n",
      "Iteração 7: [1.4444444444444444, 1.5185185185185184].\n",
      "Iteração 8: [1.4814814814814816, 1.4814814814814814].\n",
      "Iteração 9: [1.5185185185185186, 1.4938271604938271].\n",
      "Iteração 10: [1.5061728395061729, 1.5061728395061729].\n",
      "Iteração 11: [1.4938271604938271, 1.502057613168724].\n",
      "Iteração 12: [1.497942386831276, 1.4979423868312758].\n",
      "Iteração 13: [1.5020576131687242, 1.4993141289437588].\n",
      "Iteração 14: [1.5006858710562412, 1.5006858710562414].\n",
      "Iteração 15: [1.4993141289437586, 1.5002286236854137].\n",
      "Iteração 16: [1.4997713763145863, 1.4997713763145861].\n",
      "Iteração 17: [1.5002286236854139, 1.499923792104862].\n",
      "Iteração 18: [1.500076207895138, 1.500076207895138].\n",
      "Iteração 19: [1.499923792104862, 1.5000254026317124].\n",
      "Iteração 20: [1.4999745973682876, 1.4999745973682874].\n",
      "Iteração 21: [1.5000254026317126, 1.499991532456096].\n",
      "Iteração 22: [1.500008467543904, 1.5000084675439043].\n",
      "Iteração 23: [1.4999915324560957, 1.5000028225146347].\n",
      "Iteração 24: [1.4999971774853653, 1.4999971774853651].\n",
      "Iteração 25: [1.5000028225146349, 1.4999990591617884].\n",
      "Iteração 26: [1.5000009408382116, 1.5000009408382113].\n",
      "Iteração 27: [1.4999990591617887, 1.5000003136127371].\n",
      "Iteração 28: [1.4999996863872629, 1.4999996863872629].\n",
      "Iteração 29: [1.5000003136127371, 1.4999998954624207].\n",
      "Iteração 30: [1.5000001045375793, 1.500000104537579].\n",
      "Iteração 31: [1.499999895462421, 1.5000000348458598].\n",
      "Iteração 32: [1.4999999651541402, 1.4999999651541405].\n",
      "Iteração 33: [1.5000000348458595, 1.4999999883847135].\n",
      "Iteração 34: [1.5000000116152865, 1.5000000116152865].\n",
      "Iteração 35: [1.4999999883847135, 1.500000003871762].\n",
      "Iteração 36: [1.499999996128238, 1.4999999961282378].\n",
      "Iteração 37: [1.5000000038717622, 1.4999999987094128].\n",
      "Iteração 38: [1.5000000012905872, 1.5000000012905874].\n",
      "Iteração 39: [1.4999999987094126, 1.5000000004301957].\n",
      "Iteração 40: [1.4999999995698043, 1.4999999995698041].\n",
      "Iteração 41: [1.5000000004301959, 1.4999999998566014].\n",
      "Iteração 42: [1.5000000001433986, 1.5000000001433986].\n",
      "Iteração 43: [1.4999999998566014, 1.5000000000477993].\n",
      "Iteração 44: [1.4999999999522007, 1.4999999999522005].\n",
      "Iteração 45: [1.5000000000477995, 1.499999999984067].\n",
      "Iteração 46: [1.500000000015933, 1.5000000000159333].\n",
      "Iteração 47: [1.4999999999840667, 1.5000000000053109].\n",
      "Iteração 48: [1.4999999999946891, 1.4999999999946889].\n",
      "Iteração 49: [1.5000000000053111, 1.4999999999982294].\n",
      "Iteração 50: [1.5000000000017706, 1.5000000000017704].\n",
      "Iteração 51: [1.4999999999982296, 1.5000000000005902].\n",
      "Iteração 52: [1.4999999999994098, 1.4999999999994098].\n",
      "Iteração 53: [1.5000000000005902, 1.4999999999998033].\n",
      "Iteração 54: [1.5000000000001967, 1.5000000000001965].\n",
      "Iteração 55: [1.4999999999998035, 1.5000000000000657].\n",
      "Iteração 56: [1.4999999999999343, 1.4999999999999345].\n",
      "Iteração 57: [1.5000000000000655, 1.499999999999978].\n",
      "Iteração 58: [1.500000000000022, 1.5000000000000218].\n",
      "Iteração 59: [1.4999999999999782, 1.5000000000000073].\n",
      "Iteração 60: [1.4999999999999927, 1.4999999999999929].\n",
      "Iteração 61: [1.5000000000000071, 1.4999999999999976].\n",
      "Iteração 62: [1.5000000000000024, 1.5000000000000022].\n",
      "Iteração 63: [1.4999999999999978, 1.5000000000000009].\n",
      "Iteração 64: [1.4999999999999991, 1.4999999999999993].\n",
      "Iteração 65: [1.5000000000000007, 1.4999999999999996].\n",
      "Iteração 66: [1.5000000000000004, 1.5000000000000002].\n",
      "Iteração 67: [1.4999999999999998, 1.5].\n",
      "Iteração 68: [1.5, 1.5].\n"
     ]
    }
   ],
   "source": [
    "# Exemplo B:  Aplicação do método de Jacobi para o sistema\n",
    "\n",
    "# 1*x1 + 1*x2 =  3\n",
    "# 1*x1 - 3*x2 = -3\n",
    "\n",
    "# Solução esperada: [1.5, 1.5]\n",
    "# No entanto, a matriz de coeficientes diverge\n",
    "\n",
    "A = np.array([[1,1],[1,-3]])\n",
    "b = np.array([[3],[-3]])\n",
    "\n",
    "if criterioDasLinhas2(A) == 1:\n",
    "    print(\"O sistema converge para uma solução exata!\\n\")\n",
    "else:\n",
    "    print(\"Não é possível definir se o sistema converge para uma solução exata com este método!\\n\")\n",
    "\n",
    "X = metodoDeJacobi(A,b,4e-16)\n",
    "\n",
    "for i in range(len(X)): print(\"Iteração {0}: {1}.\".format(i, X[i]))"
   ]
  },
  {
   "cell_type": "code",
   "execution_count": 188,
   "metadata": {},
   "outputs": [
    {
     "name": "stdout",
     "output_type": "stream",
     "text": [
      "Não é possível definir se o sistema converge para uma solução exata com este método!\n",
      "\n",
      "Iteração 0: [0, 0, 0].\n",
      "Iteração 1: [-2.0, 1.5, -0.75].\n",
      "Iteração 2: [-5.75, 7.25, -1.875].\n",
      "Iteração 3: [-21.875, 17.75, -6.1875].\n",
      "Iteração 4: [-49.0625, 62.375, -14.0625].\n",
      "\n",
      "O sistema converge para uma solução exata!\n",
      "\n",
      "Iteração 111: [1.0, -1.0, 0.0].\n"
     ]
    }
   ],
   "source": [
    "# Exemplo C: Aplicação do método de Jacobi para o sistema:\n",
    "\n",
    "# 1*x1 + 3*x2 + 1*x3 = -2\n",
    "# 5*x1 + 2*x2 + 2*x3 =  3\n",
    "# 0*x1 + 6*x2 + 8*x3 = -6\n",
    "\n",
    "# Sistema diverge no formato acima, conforme veremos abaixo:\n",
    "\n",
    "A = np.array([[1,3,1],[5,2,2],[0,6,8]])\n",
    "b = np.array([[-2],[3],[-6]])\n",
    "\n",
    "X = metodoDeJacobi(A,b,0.75)\n",
    "\n",
    "if criterioDasLinhas2(A) == 1:\n",
    "    print(\"O sistema converge para uma solução exata!\\n\")\n",
    "else:\n",
    "    print(\"Não é possível definir se o sistema converge para uma solução exata com este método!\\n\")\n",
    "\n",
    "for i in range(len(X)): print(\"Iteração {0}: {1}.\".format(i, X[i]))\n",
    "    \n",
    "# Alternando a primeira com a segunda linha, o sistema converge e satisfaz o critério das linhas:\n",
    "\n",
    "# 5*x1 + 2*x2 + 2*x3 =  3\n",
    "# 1*x1 + 3*x2 + 1*x3 = -2\n",
    "# 0*x1 + 6*x2 + 8*x3 = -6\n",
    "\n",
    "A = np.array([[5,2,2],[1,3,1],[0,6,8]])\n",
    "b = np.array([[3],[-2],[-6]])\n",
    "\n",
    "X = metodoDeJacobi(A,b,2e-16)\n",
    "\n",
    "if criterioDasLinhas2(A) == 1:\n",
    "    print(\"\\nO sistema converge para uma solução exata!\\n\")\n",
    "else:\n",
    "    print(\"Não é possível definir se o sistema converge para uma solução exata com este método!\\n\")\n",
    "\n",
    "# Devido ao grande número de iterações necessárias para se obter a solução exata, iremos printar apenas a última\n",
    "print(\"Iteração {0}: {1}.\".format(len(X)-1, X[len(X)-1]))"
   ]
  }
 ],
 "metadata": {
  "kernelspec": {
   "display_name": "Python 3",
   "language": "python",
   "name": "python3"
  },
  "language_info": {
   "codemirror_mode": {
    "name": "ipython",
    "version": 3
   },
   "file_extension": ".py",
   "mimetype": "text/x-python",
   "name": "python",
   "nbconvert_exporter": "python",
   "pygments_lexer": "ipython3",
   "version": "3.5.3"
  }
 },
 "nbformat": 4,
 "nbformat_minor": 2
}
