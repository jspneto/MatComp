{
 "cells": [
  {
   "cell_type": "code",
   "execution_count": 1,
   "metadata": {},
   "outputs": [],
   "source": [
    "import numpy as np"
   ]
  },
  {
   "cell_type": "markdown",
   "metadata": {},
   "source": [
    "ALGORITMO I: RESOLUÇÃO DE UM SISTEMA LINEAR TRIANGULAR SUPERIOR"
   ]
  },
  {
   "cell_type": "code",
   "execution_count": 3,
   "metadata": {},
   "outputs": [],
   "source": [
    "# Dado um sistema S, representado por uma matriz M de ordem N, o algoritmo abaixo pega uma matriz triangular equivalente\n",
    "# e a matriz resultado e calcula a solução de S\n",
    "\n",
    "def solucao(m,r,n):\n",
    "    x = np.zeros((n,1)) # Cria uma matriz x[n,1] para receber a solução\n",
    "    x[n-1,0] = r[n-1,0]/m[n-1,n-1]\n",
    "    \n",
    "    for i in range(n-1,-1,-1):\n",
    "        s = 0\n",
    "        for j in range(i+1,n):\n",
    "            s = s + m[i,j]*x[j,0]\n",
    "            x[i,0] = (r[i,0] - s)/m[i,i]\n",
    "    \n",
    "    return x"
   ]
  },
  {
   "cell_type": "code",
   "execution_count": 4,
   "metadata": {},
   "outputs": [
    {
     "name": "stdout",
     "output_type": "stream",
     "text": [
      "[[ 1.]\n",
      " [ 3.]\n",
      " [ 2.]]\n"
     ]
    }
   ],
   "source": [
    "# Sistema de exemplo:\n",
    "#\n",
    "# 1*x1 + 2*x2 + 1*x3 =  9\n",
    "# 2*x1 + 1*x2 - 1*x3 =  3\n",
    "# 3*x1 - 1*x2 - 2*x3 = -4\n",
    "\n",
    "# Sistema escalonado:\n",
    "#\n",
    "# 1*x1 + 2*x2 + 1*x3 =  9\n",
    "#        1*x2 + 1*x3 =  5\n",
    "#               2*x3 =  4\n",
    "\n",
    "M = np.matrix([[1,2,1],[0,1,1],[0,0,2]])\n",
    "R = np.matrix([[9],[5],[4]])\n",
    "X = solucao(M,R,3)\n",
    "print(X)"
   ]
  },
  {
   "cell_type": "markdown",
   "metadata": {},
   "source": [
    "ALGORITMO II: RESOLUÇÃO DE Ax = B ATRAVÉS DO MÉTODO DA ELIMINAÇÃO DE GAUSS"
   ]
  },
  {
   "cell_type": "code",
   "execution_count": 5,
   "metadata": {},
   "outputs": [],
   "source": [
    "# Dado um sistema S, representado por uma matriz M de ordem N e por uma matriz resultado R de ordem Nx1, o algoritmo\n",
    "# abaixo pega essas matrizes e retorna a matriz triangular equivalente a M e sua matriz resultado correspondente\n",
    "\n",
    "def escalonamento(m,r,n):\n",
    "    for i in range(n-1):\n",
    "        for j in range(i+1,n):\n",
    "            z = m[j,i]/m[i,i]\n",
    "            m[j,i] = 0\n",
    "            \n",
    "            for k in range(i+1,n):\n",
    "                m[j,k] = m[j,k] - z*m[i,k]\n",
    "                r[j,0] = r[j,0] - z*r[i,0]"
   ]
  },
  {
   "cell_type": "code",
   "execution_count": 7,
   "metadata": {},
   "outputs": [
    {
     "name": "stdout",
     "output_type": "stream",
     "text": [
      "\n",
      " [[1 2 1]\n",
      " [0 1 1]\n",
      " [0 0 2]]\n",
      "\n",
      " [[9]\n",
      " [5]\n",
      " [4]]\n"
     ]
    }
   ],
   "source": [
    "# Sistema de exemplo:\n",
    "#\n",
    "# 1*x1 + 2*x2 + 1*x3 =  9\n",
    "# 2*x1 + 1*x2 - 1*x3 =  3\n",
    "# 3*x1 - 1*x2 - 2*x3 = -4\n",
    "\n",
    "O = np.matrix([[1,2,1],[0,1,1],[0,0,2]])\n",
    "P = np.matrix([[9],[5],[4]])\n",
    "\n",
    "escalonamento(O,P,3)\n",
    "print(\"\\n\", O)\n",
    "print(\"\\n\", P)"
   ]
  },
  {
   "cell_type": "code",
   "execution_count": 8,
   "metadata": {},
   "outputs": [
    {
     "name": "stdout",
     "output_type": "stream",
     "text": [
      "\n",
      " [[ 1.]\n",
      " [ 3.]\n",
      " [ 2.]]\n"
     ]
    }
   ],
   "source": [
    "# Determina o resultado\n",
    "\n",
    "X = solucao(M,R,3)\n",
    "print(\"\\n\", X)"
   ]
  }
 ],
 "metadata": {
  "kernelspec": {
   "display_name": "Python 3",
   "language": "python",
   "name": "python3"
  },
  "language_info": {
   "codemirror_mode": {
    "name": "ipython",
    "version": 3
   },
   "file_extension": ".py",
   "mimetype": "text/x-python",
   "name": "python",
   "nbconvert_exporter": "python",
   "pygments_lexer": "ipython3",
   "version": "3.5.3"
  }
 },
 "nbformat": 4,
 "nbformat_minor": 2
}
