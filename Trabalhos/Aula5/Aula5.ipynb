{
 "cells": [
  {
   "cell_type": "markdown",
   "metadata": {},
   "source": [
    "FUNÇÕES DE NORMALIZAÇÃO AUXILIARES"
   ]
  },
  {
   "cell_type": "code",
   "execution_count": 1,
   "metadata": {
    "collapsed": false
   },
   "outputs": [
    {
     "name": "stdout",
     "output_type": "stream",
     "text": [
      "Digite um numero: .12345\n",
      "\t 12345\n"
     ]
    }
   ],
   "source": [
    "# Transforma uma entrada numérica numa string sem separadores. Recebe como\n",
    "# parâmetro uma entrada de ponto flutuante.\n",
    "\n",
    "def stringNum(num):\n",
    "    lista = num.split('.')\n",
    "    \n",
    "    if len(lista) == 2:\n",
    "        if lista[0] != '0': string = lista[0] + lista[1]\n",
    "        else: string = lista[1]\n",
    "    else:\n",
    "        string = lista[0]\n",
    "    \n",
    "    return string\n",
    "\n",
    "x = str(input('Digite um numero: '))\n",
    "y = stringNum(x)\n",
    "print('\\t', y)"
   ]
  },
  {
   "cell_type": "code",
   "execution_count": 7,
   "metadata": {
    "collapsed": false
   },
   "outputs": [
    {
     "name": "stdout",
     "output_type": "stream",
     "text": [
      "Digite um numero: .00001\n",
      "\t -4\n"
     ]
    }
   ],
   "source": [
    "# Confere o número de casas decimais percorridas para esquerda ou para direita e\n",
    "# retorna um inteiro. Recebe como parâmetro uma entrada de ponto flutuante.\n",
    "\n",
    "def defineExp(num):\n",
    "    trunc1 = []\n",
    "    trunc2 = []\n",
    "    \n",
    "    lista = num.split('.')\n",
    "    string = stringNum(num)\n",
    "\n",
    "    if lista[0] != '0':\n",
    "        if(string[0] == '0'):\n",
    "            j = 0\n",
    "            for i in range(0, len(string)): trunc1.append(string[i])\n",
    "            while(trunc1[j] == '0'): j = j + 1\n",
    "            j = len(lista[0]) - j\n",
    "        else:\n",
    "            j = len(lista[0])\n",
    "    else:\n",
    "        j = 0\n",
    "        for i in range(0, len(string)): trunc1.append(string[i])\n",
    "        while(trunc1[j] == '0'): j = j + 1\n",
    "        j = -j\n",
    "    \n",
    "    return j\n",
    "\n",
    "x = str(input('Digite um numero: '))\n",
    "y = defineExp(x)\n",
    "print('\\t', y)"
   ]
  },
  {
   "cell_type": "code",
   "execution_count": null,
   "metadata": {
    "collapsed": true
   },
   "outputs": [],
   "source": []
  }
 ],
 "metadata": {
  "anaconda-cloud": {},
  "kernelspec": {
   "display_name": "Python [default]",
   "language": "python",
   "name": "python3"
  },
  "language_info": {
   "codemirror_mode": {
    "name": "ipython",
    "version": 3
   },
   "file_extension": ".py",
   "mimetype": "text/x-python",
   "name": "python",
   "nbconvert_exporter": "python",
   "pygments_lexer": "ipython3",
   "version": "3.5.2"
  }
 },
 "nbformat": 4,
 "nbformat_minor": 1
}
