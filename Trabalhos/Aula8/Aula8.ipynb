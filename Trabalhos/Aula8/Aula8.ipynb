{
 "cells": [
  {
   "cell_type": "code",
   "execution_count": 3,
   "metadata": {},
   "outputs": [],
   "source": [
    "import numpy as np"
   ]
  },
  {
   "cell_type": "markdown",
   "metadata": {},
   "source": [
    "ALGORITMO I: RESOLUÇÃO DE UM SISTEMA LINEAR TRIANGULAR SUPERIOR"
   ]
  },
  {
   "cell_type": "code",
   "execution_count": 1,
   "metadata": {},
   "outputs": [],
   "source": [
    "# Dado um sistema S, representado por uma matriz A de ordem N e uma matriz resultado B de ortem Nx1, o algoritmo abaixo\n",
    "# pega uma matriz triangular equivalente e sua matriz resultado correspondente e calcula a solução de S\n",
    "\n",
    "def solucao(a,b,n):\n",
    "    x = np.zeros((n,1)) # Cria uma matriz x[n,1] para receber a solução\n",
    "    x[n-1,0] = b[n-1,0]/a[n-1,n-1]\n",
    "    \n",
    "    for k in range(n-1,-1,-1):\n",
    "        s = 0\n",
    "        for j in range(k+1,n):\n",
    "            s = s + a[k,j]*x[j,0]\n",
    "            x[k,0] = (b[k,0] - s)/a[k,k]\n",
    "    \n",
    "    return x"
   ]
  },
  {
   "cell_type": "code",
   "execution_count": 4,
   "metadata": {},
   "outputs": [
    {
     "name": "stdout",
     "output_type": "stream",
     "text": [
      "[[ 1.]\n",
      " [ 3.]\n",
      " [ 2.]]\n"
     ]
    }
   ],
   "source": [
    "# Sistema de exemplo:\n",
    "#\n",
    "# 1*x1 + 2*x2 + 1*x3 =  9\n",
    "# 2*x1 + 1*x2 - 1*x3 =  3\n",
    "# 3*x1 - 1*x2 - 2*x3 = -4\n",
    "\n",
    "# Sistema escalonado:\n",
    "#\n",
    "# 1*x1 + 2*x2 + 1*x3 =   9\n",
    "#      - 3*x2 - 3*x3 = -15\n",
    "#               2*x3 =   4\n",
    "\n",
    "A = np.matrix([[1,2,1],[0,-3,-3],[0,0,2]])\n",
    "B = np.matrix([[9],[-15],[4]])\n",
    "S = solucao(A,B,3)\n",
    "print(S)"
   ]
  },
  {
   "cell_type": "markdown",
   "metadata": {},
   "source": [
    "ALGORITMO II: RESOLUÇÃO DE Ax = B ATRAVÉS DO MÉTODO DA ELIMINAÇÃO DE GAUSS"
   ]
  },
  {
   "cell_type": "code",
   "execution_count": 6,
   "metadata": {},
   "outputs": [],
   "source": [
    "# Dado um sistema S, representado por uma matriz A de ordem N e por uma matriz resultado B de ordem Nx1, o algoritmo\n",
    "# abaixo pega essas matrizes e retorna a matriz triangular equivalente a A e sua matriz resultado correspondente\n",
    "\n",
    "def escalonamento(a,b,n):\n",
    "    for k in range(n-1):\n",
    "        for i in range(k+1,n):\n",
    "            m = a[i,k]/a[k,k]\n",
    "            a[i,k] = 0\n",
    "            for j in range(k+1,n):\n",
    "                a[i,j] = a[i,j] - m*a[k,j]\n",
    "            b[i,0] = b[i,0] - m*b[k,0]"
   ]
  },
  {
   "cell_type": "code",
   "execution_count": 10,
   "metadata": {},
   "outputs": [
    {
     "name": "stdout",
     "output_type": "stream",
     "text": [
      "\n",
      " [[ 1  2  1]\n",
      " [ 0 -3 -3]\n",
      " [ 0  0  2]]\n",
      "\n",
      " [[  9]\n",
      " [-15]\n",
      " [  4]]\n"
     ]
    }
   ],
   "source": [
    "# Sistema de exemplo:\n",
    "#\n",
    "# 1*x1 + 2*x2 + 1*x3 =  9\n",
    "# 2*x1 + 1*x2 - 1*x3 =  3\n",
    "# 3*x1 - 1*x2 - 2*x3 = -4\n",
    "\n",
    "C = np.matrix([[1,2,1],[2,1,-1],[3,-1,-2]])\n",
    "D = np.matrix([[9],[3],[-4]])\n",
    "\n",
    "escalonamento(C,D,3)\n",
    "print(\"\\n\", C)\n",
    "print(\"\\n\", D)"
   ]
  },
  {
   "cell_type": "code",
   "execution_count": 13,
   "metadata": {},
   "outputs": [
    {
     "name": "stdout",
     "output_type": "stream",
     "text": [
      "\n",
      " [[ 1.]\n",
      " [ 3.]\n",
      " [ 2.]]\n"
     ]
    }
   ],
   "source": [
    "# Determina o resultado\n",
    "\n",
    "R = solucao(C,D,3)\n",
    "print(\"\\n\", R)"
   ]
  }
 ],
 "metadata": {
  "kernelspec": {
   "display_name": "Python 3",
   "language": "python",
   "name": "python3"
  },
  "language_info": {
   "codemirror_mode": {
    "name": "ipython",
    "version": 3
   },
   "file_extension": ".py",
   "mimetype": "text/x-python",
   "name": "python",
   "nbconvert_exporter": "python",
   "pygments_lexer": "ipython3",
   "version": "3.5.3"
  }
 },
 "nbformat": 4,
 "nbformat_minor": 2
}
